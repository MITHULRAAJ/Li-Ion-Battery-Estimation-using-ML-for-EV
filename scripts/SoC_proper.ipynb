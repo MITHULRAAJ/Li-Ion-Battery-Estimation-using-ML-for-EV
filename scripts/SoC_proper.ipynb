{
  "cells": [
    {
      "cell_type": "markdown",
      "metadata": {
        "id": "SsZTHMCE2jkn"
      },
      "source": [
        "## Library Imports"
      ]
    },
    {
      "cell_type": "code",
      "execution_count": null,
      "metadata": {
        "id": "PVHA6K8o2jko"
      },
      "outputs": [],
      "source": [
        "# Numpy and Pandas\n",
        "import numpy as np\n",
        "import pandas as pd\n",
        "\n",
        "# Vizualization\n",
        "from matplotlib import pyplot as plt\n",
        "%matplotlib inline\n",
        "import seaborn as sns\n",
        "sns.set_style('darkgrid')\n",
        "\n",
        "# Machine learning algorithms\n",
        "from sklearn.svm import SVR\n",
        "from sklearn.ensemble import RandomForestRegressor, GradientBoostingRegressor\n",
        "from sklearn.neural_network import MLPRegressor\n",
        "from sklearn.tree import DecisionTreeRegressor\n",
        "from sklearn.linear_model import LinearRegression\n",
        "\n",
        "# Machine learning pipeline\n",
        "from sklearn.model_selection import train_test_split\n",
        "from sklearn.pipeline import make_pipeline\n",
        "from sklearn.preprocessing import StandardScaler\n",
        "from sklearn.preprocessing import PolynomialFeatures\n",
        "from sklearn.model_selection import GridSearchCV\n",
        "\n",
        "# Regression Metrics\n",
        "from sklearn.metrics import mean_absolute_error\n",
        "from sklearn.metrics import r2_score\n",
        "\n",
        "# Ignore ConvergenceWarning messages\n",
        "import warnings\n",
        "from sklearn.exceptions import ConvergenceWarning\n",
        "warnings.simplefilter(action='ignore', category=ConvergenceWarning)\n",
        "\n",
        "# Check the fitted_model\n",
        "from sklearn.exceptions import NotFittedError\n",
        "\n",
        "# Save python obect to disk\n",
        "import pickle"
      ]
    },
    {
      "cell_type": "markdown",
      "metadata": {
        "id": "yZ9b-ZYZ2jkq"
      },
      "source": [
        "## Exploratory Analysis"
      ]
    },
    {
      "cell_type": "code",
      "execution_count": null,
      "metadata": {
        "colab": {
          "base_uri": "https://localhost:8080/",
          "height": 206
        },
        "id": "K4C_VjNf2jkq",
        "outputId": "346f4fdb-cc2c-4adb-ea82-54a6c9164a7d"
      },
      "outputs": [
        {
          "output_type": "execute_result",
          "data": {
            "text/plain": [
              "   Voltage  Current  Temperature   WhAccu\n",
              "0  4.18498 -0.03576     23.76583  0.00000\n",
              "1  4.18413 -0.07407     23.76583 -0.00001\n",
              "2  4.18380 -0.08173     23.76583 -0.00001\n",
              "3  4.18363 -0.08428     23.76583 -0.00002\n",
              "4  4.18363 -0.08428     23.76583 -0.00003"
            ],
            "text/html": [
              "\n",
              "  <div id=\"df-a05abdbb-88c3-4d73-bcd4-57fb95797597\">\n",
              "    <div class=\"colab-df-container\">\n",
              "      <div>\n",
              "<style scoped>\n",
              "    .dataframe tbody tr th:only-of-type {\n",
              "        vertical-align: middle;\n",
              "    }\n",
              "\n",
              "    .dataframe tbody tr th {\n",
              "        vertical-align: top;\n",
              "    }\n",
              "\n",
              "    .dataframe thead th {\n",
              "        text-align: right;\n",
              "    }\n",
              "</style>\n",
              "<table border=\"1\" class=\"dataframe\">\n",
              "  <thead>\n",
              "    <tr style=\"text-align: right;\">\n",
              "      <th></th>\n",
              "      <th>Voltage</th>\n",
              "      <th>Current</th>\n",
              "      <th>Temperature</th>\n",
              "      <th>WhAccu</th>\n",
              "    </tr>\n",
              "  </thead>\n",
              "  <tbody>\n",
              "    <tr>\n",
              "      <th>0</th>\n",
              "      <td>4.18498</td>\n",
              "      <td>-0.03576</td>\n",
              "      <td>23.76583</td>\n",
              "      <td>0.00000</td>\n",
              "    </tr>\n",
              "    <tr>\n",
              "      <th>1</th>\n",
              "      <td>4.18413</td>\n",
              "      <td>-0.07407</td>\n",
              "      <td>23.76583</td>\n",
              "      <td>-0.00001</td>\n",
              "    </tr>\n",
              "    <tr>\n",
              "      <th>2</th>\n",
              "      <td>4.18380</td>\n",
              "      <td>-0.08173</td>\n",
              "      <td>23.76583</td>\n",
              "      <td>-0.00001</td>\n",
              "    </tr>\n",
              "    <tr>\n",
              "      <th>3</th>\n",
              "      <td>4.18363</td>\n",
              "      <td>-0.08428</td>\n",
              "      <td>23.76583</td>\n",
              "      <td>-0.00002</td>\n",
              "    </tr>\n",
              "    <tr>\n",
              "      <th>4</th>\n",
              "      <td>4.18363</td>\n",
              "      <td>-0.08428</td>\n",
              "      <td>23.76583</td>\n",
              "      <td>-0.00003</td>\n",
              "    </tr>\n",
              "  </tbody>\n",
              "</table>\n",
              "</div>\n",
              "      <button class=\"colab-df-convert\" onclick=\"convertToInteractive('df-a05abdbb-88c3-4d73-bcd4-57fb95797597')\"\n",
              "              title=\"Convert this dataframe to an interactive table.\"\n",
              "              style=\"display:none;\">\n",
              "        \n",
              "  <svg xmlns=\"http://www.w3.org/2000/svg\" height=\"24px\"viewBox=\"0 0 24 24\"\n",
              "       width=\"24px\">\n",
              "    <path d=\"M0 0h24v24H0V0z\" fill=\"none\"/>\n",
              "    <path d=\"M18.56 5.44l.94 2.06.94-2.06 2.06-.94-2.06-.94-.94-2.06-.94 2.06-2.06.94zm-11 1L8.5 8.5l.94-2.06 2.06-.94-2.06-.94L8.5 2.5l-.94 2.06-2.06.94zm10 10l.94 2.06.94-2.06 2.06-.94-2.06-.94-.94-2.06-.94 2.06-2.06.94z\"/><path d=\"M17.41 7.96l-1.37-1.37c-.4-.4-.92-.59-1.43-.59-.52 0-1.04.2-1.43.59L10.3 9.45l-7.72 7.72c-.78.78-.78 2.05 0 2.83L4 21.41c.39.39.9.59 1.41.59.51 0 1.02-.2 1.41-.59l7.78-7.78 2.81-2.81c.8-.78.8-2.07 0-2.86zM5.41 20L4 18.59l7.72-7.72 1.47 1.35L5.41 20z\"/>\n",
              "  </svg>\n",
              "      </button>\n",
              "      \n",
              "  <style>\n",
              "    .colab-df-container {\n",
              "      display:flex;\n",
              "      flex-wrap:wrap;\n",
              "      gap: 12px;\n",
              "    }\n",
              "\n",
              "    .colab-df-convert {\n",
              "      background-color: #E8F0FE;\n",
              "      border: none;\n",
              "      border-radius: 50%;\n",
              "      cursor: pointer;\n",
              "      display: none;\n",
              "      fill: #1967D2;\n",
              "      height: 32px;\n",
              "      padding: 0 0 0 0;\n",
              "      width: 32px;\n",
              "    }\n",
              "\n",
              "    .colab-df-convert:hover {\n",
              "      background-color: #E2EBFA;\n",
              "      box-shadow: 0px 1px 2px rgba(60, 64, 67, 0.3), 0px 1px 3px 1px rgba(60, 64, 67, 0.15);\n",
              "      fill: #174EA6;\n",
              "    }\n",
              "\n",
              "    [theme=dark] .colab-df-convert {\n",
              "      background-color: #3B4455;\n",
              "      fill: #D2E3FC;\n",
              "    }\n",
              "\n",
              "    [theme=dark] .colab-df-convert:hover {\n",
              "      background-color: #434B5C;\n",
              "      box-shadow: 0px 1px 3px 1px rgba(0, 0, 0, 0.15);\n",
              "      filter: drop-shadow(0px 1px 2px rgba(0, 0, 0, 0.3));\n",
              "      fill: #FFFFFF;\n",
              "    }\n",
              "  </style>\n",
              "\n",
              "      <script>\n",
              "        const buttonEl =\n",
              "          document.querySelector('#df-a05abdbb-88c3-4d73-bcd4-57fb95797597 button.colab-df-convert');\n",
              "        buttonEl.style.display =\n",
              "          google.colab.kernel.accessAllowed ? 'block' : 'none';\n",
              "\n",
              "        async function convertToInteractive(key) {\n",
              "          const element = document.querySelector('#df-a05abdbb-88c3-4d73-bcd4-57fb95797597');\n",
              "          const dataTable =\n",
              "            await google.colab.kernel.invokeFunction('convertToInteractive',\n",
              "                                                     [key], {});\n",
              "          if (!dataTable) return;\n",
              "\n",
              "          const docLinkHtml = 'Like what you see? Visit the ' +\n",
              "            '<a target=\"_blank\" href=https://colab.research.google.com/notebooks/data_table.ipynb>data table notebook</a>'\n",
              "            + ' to learn more about interactive tables.';\n",
              "          element.innerHTML = '';\n",
              "          dataTable['output_type'] = 'display_data';\n",
              "          await google.colab.output.renderOutput(dataTable, element);\n",
              "          const docLink = document.createElement('div');\n",
              "          docLink.innerHTML = docLinkHtml;\n",
              "          element.appendChild(docLink);\n",
              "        }\n",
              "      </script>\n",
              "    </div>\n",
              "  </div>\n",
              "  "
            ]
          },
          "metadata": {},
          "execution_count": 4
        }
      ],
      "source": [
        "df = pd.read_csv('Mixed2set.csv')\n",
        "df.head()"
      ]
    },
    {
      "cell_type": "code",
      "execution_count": null,
      "metadata": {
        "colab": {
          "base_uri": "https://localhost:8080/",
          "height": 54
        },
        "id": "hfBj0a0Q2jks",
        "outputId": "a6fed808-75ba-43b9-a7be-072a0bc1e6c7"
      },
      "outputs": [
        {
          "output_type": "display_data",
          "data": {
            "text/plain": [
              "<Figure size 1008x1008 with 4 Axes>"
            ],
            "image/png": "[encoded data removed]"
          },
          "metadata": {}
        }
      ],
      "source": [
        "df.hist(figsize=(14,14), xrot=-45)\n",
        "plt.show()"
      ]
    },
    {
      "cell_type": "code",
      "execution_count": null,
      "metadata": {
        "colab": {
          "base_uri": "https://localhost:8080/",
          "height": 364
        },
        "id": "VukVfCWI2jkt",
        "outputId": "cbe90195-461f-4d1b-a1ba-fc5ea28ae989"
      },
      "outputs": [
        {
          "output_type": "execute_result",
          "data": {
            "text/plain": [
              "            Voltage       Current   Temperature        WhAccu\n",
              "count  79172.000000  79172.000000  79172.000000  79172.000000\n",
              "mean       3.726264     -1.177492     24.300851     -4.539380\n",
              "std        0.289833      2.453153      0.440250      2.872360\n",
              "min        2.799420    -16.448340     23.555510     -9.274380\n",
              "25%        3.548148     -2.370190     23.976150     -6.691880\n",
              "50%        3.710310     -0.679390     24.186460     -5.113325\n",
              "75%        3.987930      0.000000     24.501940     -1.678320\n",
              "max        4.204170      6.002170     26.184470      0.005520"
            ],
            "text/html": [
              "\n",
              "  <div id=\"df-51a138cc-82c2-484a-8681-55f6602e0460\">\n",
              "    <div class=\"colab-df-container\">\n",
              "      <div>\n",
              "<style scoped>\n",
              "    .dataframe tbody tr th:only-of-type {\n",
              "        vertical-align: middle;\n",
              "    }\n",
              "\n",
              "    .dataframe tbody tr th {\n",
              "        vertical-align: top;\n",
              "    }\n",
              "\n",
              "    .dataframe thead th {\n",
              "        text-align: right;\n",
              "    }\n",
              "</style>\n",
              "<table border=\"1\" class=\"dataframe\">\n",
              "  <thead>\n",
              "    <tr style=\"text-align: right;\">\n",
              "      <th></th>\n",
              "      <th>Voltage</th>\n",
              "      <th>Current</th>\n",
              "      <th>Temperature</th>\n",
              "      <th>WhAccu</th>\n",
              "    </tr>\n",
              "  </thead>\n",
              "  <tbody>\n",
              "    <tr>\n",
              "      <th>count</th>\n",
              "      <td>79172.000000</td>\n",
              "      <td>79172.000000</td>\n",
              "      <td>79172.000000</td>\n",
              "      <td>79172.000000</td>\n",
              "    </tr>\n",
              "    <tr>\n",
              "      <th>mean</th>\n",
              "      <td>3.726264</td>\n",
              "      <td>-1.177492</td>\n",
              "      <td>24.300851</td>\n",
              "      <td>-4.539380</td>\n",
              "    </tr>\n",
              "    <tr>\n",
              "      <th>std</th>\n",
              "      <td>0.289833</td>\n",
              "      <td>2.453153</td>\n",
              "      <td>0.440250</td>\n",
              "      <td>2.872360</td>\n",
              "    </tr>\n",
              "    <tr>\n",
              "      <th>min</th>\n",
              "      <td>2.799420</td>\n",
              "      <td>-16.448340</td>\n",
              "      <td>23.555510</td>\n",
              "      <td>-9.274380</td>\n",
              "    </tr>\n",
              "    <tr>\n",
              "      <th>25%</th>\n",
              "      <td>3.548148</td>\n",
              "      <td>-2.370190</td>\n",
              "      <td>23.976150</td>\n",
              "      <td>-6.691880</td>\n",
              "    </tr>\n",
              "    <tr>\n",
              "      <th>50%</th>\n",
              "      <td>3.710310</td>\n",
              "      <td>-0.679390</td>\n",
              "      <td>24.186460</td>\n",
              "      <td>-5.113325</td>\n",
              "    </tr>\n",
              "    <tr>\n",
              "      <th>75%</th>\n",
              "      <td>3.987930</td>\n",
              "      <td>0.000000</td>\n",
              "      <td>24.501940</td>\n",
              "      <td>-1.678320</td>\n",
              "    </tr>\n",
              "    <tr>\n",
              "      <th>max</th>\n",
              "      <td>4.204170</td>\n",
              "      <td>6.002170</td>\n",
              "      <td>26.184470</td>\n",
              "      <td>0.005520</td>\n",
              "    </tr>\n",
              "  </tbody>\n",
              "</table>\n",
              "</div>\n",
              "      <button class=\"colab-df-convert\" onclick=\"convertToInteractive('df-51a138cc-82c2-484a-8681-55f6602e0460')\"\n",
              "              title=\"Convert this dataframe to an interactive table.\"\n",
              "              style=\"display:none;\">\n",
              "        \n",
              "  <svg xmlns=\"http://www.w3.org/2000/svg\" height=\"24px\"viewBox=\"0 0 24 24\"\n",
              "       width=\"24px\">\n",
              "    <path d=\"M0 0h24v24H0V0z\" fill=\"none\"/>\n",
              "    <path d=\"M18.56 5.44l.94 2.06.94-2.06 2.06-.94-2.06-.94-.94-2.06-.94 2.06-2.06.94zm-11 1L8.5 8.5l.94-2.06 2.06-.94-2.06-.94L8.5 2.5l-.94 2.06-2.06.94zm10 10l.94 2.06.94-2.06 2.06-.94-2.06-.94-.94-2.06-.94 2.06-2.06.94z\"/><path d=\"M17.41 7.96l-1.37-1.37c-.4-.4-.92-.59-1.43-.59-.52 0-1.04.2-1.43.59L10.3 9.45l-7.72 7.72c-.78.78-.78 2.05 0 2.83L4 21.41c.39.39.9.59 1.41.59.51 0 1.02-.2 1.41-.59l7.78-7.78 2.81-2.81c.8-.78.8-2.07 0-2.86zM5.41 20L4 18.59l7.72-7.72 1.47 1.35L5.41 20z\"/>\n",
              "  </svg>\n",
              "      </button>\n",
              "      \n",
              "  <style>\n",
              "    .colab-df-container {\n",
              "      display:flex;\n",
              "      flex-wrap:wrap;\n",
              "      gap: 12px;\n",
              "    }\n",
              "\n",
              "    .colab-df-convert {\n",
              "      background-color: #E8F0FE;\n",
              "      border: none;\n",
              "      border-radius: 50%;\n",
              "      cursor: pointer;\n",
              "      display: none;\n",
              "      fill: #1967D2;\n",
              "      height: 32px;\n",
              "      padding: 0 0 0 0;\n",
              "      width: 32px;\n",
              "    }\n",
              "\n",
              "    .colab-df-convert:hover {\n",
              "      background-color: #E2EBFA;\n",
              "      box-shadow: 0px 1px 2px rgba(60, 64, 67, 0.3), 0px 1px 3px 1px rgba(60, 64, 67, 0.15);\n",
              "      fill: #174EA6;\n",
              "    }\n",
              "\n",
              "    [theme=dark] .colab-df-convert {\n",
              "      background-color: #3B4455;\n",
              "      fill: #D2E3FC;\n",
              "    }\n",
              "\n",
              "    [theme=dark] .colab-df-convert:hover {\n",
              "      background-color: #434B5C;\n",
              "      box-shadow: 0px 1px 3px 1px rgba(0, 0, 0, 0.15);\n",
              "      filter: drop-shadow(0px 1px 2px rgba(0, 0, 0, 0.3));\n",
              "      fill: #FFFFFF;\n",
              "    }\n",
              "  </style>\n",
              "\n",
              "      <script>\n",
              "        const buttonEl =\n",
              "          document.querySelector('#df-51a138cc-82c2-484a-8681-55f6602e0460 button.colab-df-convert');\n",
              "        buttonEl.style.display =\n",
              "          google.colab.kernel.accessAllowed ? 'block' : 'none';\n",
              "\n",
              "        async function convertToInteractive(key) {\n",
              "          const element = document.querySelector('#df-51a138cc-82c2-484a-8681-55f6602e0460');\n",
              "          const dataTable =\n",
              "            await google.colab.kernel.invokeFunction('convertToInteractive',\n",
              "                                                     [key], {});\n",
              "          if (!dataTable) return;\n",
              "\n",
              "          const docLinkHtml = 'Like what you see? Visit the ' +\n",
              "            '<a target=\"_blank\" href=https://colab.research.google.com/notebooks/data_table.ipynb>data table notebook</a>'\n",
              "            + ' to learn more about interactive tables.';\n",
              "          element.innerHTML = '';\n",
              "          dataTable['output_type'] = 'display_data';\n",
              "          await google.colab.output.renderOutput(dataTable, element);\n",
              "          const docLink = document.createElement('div');\n",
              "          docLink.innerHTML = docLinkHtml;\n",
              "          element.appendChild(docLink);\n",
              "        }\n",
              "      </script>\n",
              "    </div>\n",
              "  </div>\n",
              "  "
            ]
          },
          "metadata": {},
          "execution_count": 6
        }
      ],
      "source": [
        "df.describe()"
      ]
    },
    {
      "cell_type": "code",
      "execution_count": null,
      "metadata": {
        "colab": {
          "base_uri": "https://localhost:8080/",
          "height": 54
        },
        "id": "AhWLXams2jku",
        "outputId": "e4587864-10de-4be0-8907-7bdc0e12e06b"
      },
      "outputs": [
        {
          "output_type": "display_data",
          "data": {
            "text/plain": [
              "<Figure size 432x288 with 1 Axes>"
            ],
            "image/png": "[encoded data removed]"
          },
          "metadata": {}
        }
      ],
      "source": [
        "df.Voltage.hist()\n",
        "plt.show()"
      ]
    },
    {
      "cell_type": "code",
      "execution_count": null,
      "metadata": {
        "colab": {
          "base_uri": "https://localhost:8080/",
          "height": 265
        },
        "id": "KvM540QX2jkv",
        "outputId": "471a0bc5-b321-40fb-a4f5-5a1b282da0bf"
      },
      "outputs": [
        {
          "output_type": "display_data",
          "data": {
            "text/plain": [
              "<Figure size 432x288 with 1 Axes>"
            ],
            "image/png": "[encoded data removed]"
          },
          "metadata": {}
        }
      ],
      "source": [
        "df.WhAccu.hist()\n",
        "plt.show()"
      ]
    },
    {
      "cell_type": "code",
      "execution_count": null,
      "metadata": {
        "colab": {
          "base_uri": "https://localhost:8080/"
        },
        "id": "KlKvohPw2jkw",
        "outputId": "c7eb9f3c-0707-481f-cb17-5d6ad5f96402"
      },
      "outputs": [
        {
          "output_type": "execute_result",
          "data": {
            "text/plain": [
              "(79172, 4)"
            ]
          },
          "metadata": {},
          "execution_count": 9
        }
      ],
      "source": [
        "df.shape"
      ]
    },
    {
      "cell_type": "code",
      "execution_count": null,
      "metadata": {
        "colab": {
          "base_uri": "https://localhost:8080/",
          "height": 334
        },
        "id": "3cqD-nrd2jkx",
        "outputId": "32abc837-df23-4cec-9c8d-917bde6fcbbf"
      },
      "outputs": [
        {
          "output_type": "stream",
          "name": "stderr",
          "text": [
            "/usr/local/lib/python3.7/dist-packages/seaborn/_decorators.py:43: FutureWarning: Pass the following variable as a keyword arg: x. From version 0.12, the only valid positional argument will be `data`, and passing other arguments without an explicit keyword will result in an error or misinterpretation.\n",
            "  FutureWarning\n"
          ]
        },
        {
          "output_type": "display_data",
          "data": {
            "text/plain": [
              "<Figure size 432x288 with 1 Axes>"
            ],
            "image/png": "[encoded data removed]"
          },
          "metadata": {}
        }
      ],
      "source": [
        "sns.boxplot(df.WhAccu)\n",
        "plt.show()"
      ]
    },
    {
      "cell_type": "code",
      "execution_count": null,
      "metadata": {
        "colab": {
          "base_uri": "https://localhost:8080/",
          "height": 89
        },
        "id": "n946e3z92jkx",
        "outputId": "49283785-2b09-471d-8cb9-58011771e3da"
      },
      "outputs": [
        {
          "output_type": "stream",
          "name": "stderr",
          "text": [
            "/usr/local/lib/python3.7/dist-packages/seaborn/_decorators.py:43: FutureWarning: Pass the following variable as a keyword arg: x. From version 0.12, the only valid positional argument will be `data`, and passing other arguments without an explicit keyword will result in an error or misinterpretation.\n",
            "  FutureWarning\n"
          ]
        },
        {
          "output_type": "display_data",
          "data": {
            "text/plain": [
              "<Figure size 432x288 with 1 Axes>"
            ],
            "image/png": "[encoded data removed]"
          },
          "metadata": {}
        }
      ],
      "source": [
        "sns.violinplot('WhAccu', data=df)\n",
        "plt.show()"
      ]
    },
    {
      "cell_type": "code",
      "execution_count": null,
      "metadata": {
        "colab": {
          "base_uri": "https://localhost:8080/",
          "height": 239
        },
        "id": "MLBhn9ZN2jky",
        "outputId": "4c7c59d6-bf7e-43aa-e56c-0251b6291f96"
      },
      "outputs": [
        {
          "output_type": "execute_result",
          "data": {
            "text/plain": [
              "              Voltage   Current  Temperature    WhAccu\n",
              "Voltage      1.000000  0.241330    -0.579303  0.967371\n",
              "Current      0.241330  1.000000    -0.134336  0.050945\n",
              "Temperature -0.579303 -0.134336     1.000000 -0.513933\n",
              "WhAccu       0.967371  0.050945    -0.513933  1.000000"
            ],
            "text/html": [
              "\n",
              "  <div id=\"df-a34d4f1c-bc56-44c4-b3bf-c3d405995fc3\">\n",
              "    <div class=\"colab-df-container\">\n",
              "      <div>\n",
              "<style scoped>\n",
              "    .dataframe tbody tr th:only-of-type {\n",
              "        vertical-align: middle;\n",
              "    }\n",
              "\n",
              "    .dataframe tbody tr th {\n",
              "        vertical-align: top;\n",
              "    }\n",
              "\n",
              "    .dataframe thead th {\n",
              "        text-align: right;\n",
              "    }\n",
              "</style>\n",
              "<table border=\"1\" class=\"dataframe\">\n",
              "  <thead>\n",
              "    <tr style=\"text-align: right;\">\n",
              "      <th></th>\n",
              "      <th>Voltage</th>\n",
              "      <th>Current</th>\n",
              "      <th>Temperature</th>\n",
              "      <th>WhAccu</th>\n",
              "    </tr>\n",
              "  </thead>\n",
              "  <tbody>\n",
              "    <tr>\n",
              "      <th>Voltage</th>\n",
              "      <td>1.000000</td>\n",
              "      <td>0.241330</td>\n",
              "      <td>-0.579303</td>\n",
              "      <td>0.967371</td>\n",
              "    </tr>\n",
              "    <tr>\n",
              "      <th>Current</th>\n",
              "      <td>0.241330</td>\n",
              "      <td>1.000000</td>\n",
              "      <td>-0.134336</td>\n",
              "      <td>0.050945</td>\n",
              "    </tr>\n",
              "    <tr>\n",
              "      <th>Temperature</th>\n",
              "      <td>-0.579303</td>\n",
              "      <td>-0.134336</td>\n",
              "      <td>1.000000</td>\n",
              "      <td>-0.513933</td>\n",
              "    </tr>\n",
              "    <tr>\n",
              "      <th>WhAccu</th>\n",
              "      <td>0.967371</td>\n",
              "      <td>0.050945</td>\n",
              "      <td>-0.513933</td>\n",
              "      <td>1.000000</td>\n",
              "    </tr>\n",
              "  </tbody>\n",
              "</table>\n",
              "</div>\n",
              "      <button class=\"colab-df-convert\" onclick=\"convertToInteractive('df-a34d4f1c-bc56-44c4-b3bf-c3d405995fc3')\"\n",
              "              title=\"Convert this dataframe to an interactive table.\"\n",
              "              style=\"display:none;\">\n",
              "        \n",
              "  <svg xmlns=\"http://www.w3.org/2000/svg\" height=\"24px\"viewBox=\"0 0 24 24\"\n",
              "       width=\"24px\">\n",
              "    <path d=\"M0 0h24v24H0V0z\" fill=\"none\"/>\n",
              "    <path d=\"M18.56 5.44l.94 2.06.94-2.06 2.06-.94-2.06-.94-.94-2.06-.94 2.06-2.06.94zm-11 1L8.5 8.5l.94-2.06 2.06-.94-2.06-.94L8.5 2.5l-.94 2.06-2.06.94zm10 10l.94 2.06.94-2.06 2.06-.94-2.06-.94-.94-2.06-.94 2.06-2.06.94z\"/><path d=\"M17.41 7.96l-1.37-1.37c-.4-.4-.92-.59-1.43-.59-.52 0-1.04.2-1.43.59L10.3 9.45l-7.72 7.72c-.78.78-.78 2.05 0 2.83L4 21.41c.39.39.9.59 1.41.59.51 0 1.02-.2 1.41-.59l7.78-7.78 2.81-2.81c.8-.78.8-2.07 0-2.86zM5.41 20L4 18.59l7.72-7.72 1.47 1.35L5.41 20z\"/>\n",
              "  </svg>\n",
              "      </button>\n",
              "      \n",
              "  <style>\n",
              "    .colab-df-container {\n",
              "      display:flex;\n",
              "      flex-wrap:wrap;\n",
              "      gap: 12px;\n",
              "    }\n",
              "\n",
              "    .colab-df-convert {\n",
              "      background-color: #E8F0FE;\n",
              "      border: none;\n",
              "      border-radius: 50%;\n",
              "      cursor: pointer;\n",
              "      display: none;\n",
              "      fill: #1967D2;\n",
              "      height: 32px;\n",
              "      padding: 0 0 0 0;\n",
              "      width: 32px;\n",
              "    }\n",
              "\n",
              "    .colab-df-convert:hover {\n",
              "      background-color: #E2EBFA;\n",
              "      box-shadow: 0px 1px 2px rgba(60, 64, 67, 0.3), 0px 1px 3px 1px rgba(60, 64, 67, 0.15);\n",
              "      fill: #174EA6;\n",
              "    }\n",
              "\n",
              "    [theme=dark] .colab-df-convert {\n",
              "      background-color: #3B4455;\n",
              "      fill: #D2E3FC;\n",
              "    }\n",
              "\n",
              "    [theme=dark] .colab-df-convert:hover {\n",
              "      background-color: #434B5C;\n",
              "      box-shadow: 0px 1px 3px 1px rgba(0, 0, 0, 0.15);\n",
              "      filter: drop-shadow(0px 1px 2px rgba(0, 0, 0, 0.3));\n",
              "      fill: #FFFFFF;\n",
              "    }\n",
              "  </style>\n",
              "\n",
              "      <script>\n",
              "        const buttonEl =\n",
              "          document.querySelector('#df-a34d4f1c-bc56-44c4-b3bf-c3d405995fc3 button.colab-df-convert');\n",
              "        buttonEl.style.display =\n",
              "          google.colab.kernel.accessAllowed ? 'block' : 'none';\n",
              "\n",
              "        async function convertToInteractive(key) {\n",
              "          const element = document.querySelector('#df-a34d4f1c-bc56-44c4-b3bf-c3d405995fc3');\n",
              "          const dataTable =\n",
              "            await google.colab.kernel.invokeFunction('convertToInteractive',\n",
              "                                                     [key], {});\n",
              "          if (!dataTable) return;\n",
              "\n",
              "          const docLinkHtml = 'Like what you see? Visit the ' +\n",
              "            '<a target=\"_blank\" href=https://colab.research.google.com/notebooks/data_table.ipynb>data table notebook</a>'\n",
              "            + ' to learn more about interactive tables.';\n",
              "          element.innerHTML = '';\n",
              "          dataTable['output_type'] = 'display_data';\n",
              "          await google.colab.output.renderOutput(dataTable, element);\n",
              "          const docLink = document.createElement('div');\n",
              "          docLink.innerHTML = docLinkHtml;\n",
              "          element.appendChild(docLink);\n",
              "        }\n",
              "      </script>\n",
              "    </div>\n",
              "  </div>\n",
              "  "
            ]
          },
          "metadata": {},
          "execution_count": 12
        }
      ],
      "source": [
        "correlations = df.corr()\n",
        "correlations"
      ]
    },
    {
      "cell_type": "code",
      "execution_count": null,
      "metadata": {
        "colab": {
          "base_uri": "https://localhost:8080/",
          "height": 54
        },
        "id": "isnfJUax2jkz",
        "outputId": "1aec35ef-a5ea-4f27-d8e9-647395072358"
      },
      "outputs": [
        {
          "output_type": "display_data",
          "data": {
            "text/plain": [
              "<Figure size 504x432 with 2 Axes>"
            ],
            "image/png": "[encoded data removed]"
          },
          "metadata": {}
        }
      ],
      "source": [
        "plt.figure(figsize=(7,6))\n",
        "sns.heatmap(correlations, cmap='RdBu_r')\n",
        "plt.show()"
      ]
    },
    {
      "cell_type": "markdown",
      "metadata": {
        "id": "nWPn6ja12jkz"
      },
      "source": [
        "## Data Cleaning"
      ]
    },
    {
      "cell_type": "code",
      "execution_count": null,
      "metadata": {
        "colab": {
          "base_uri": "https://localhost:8080/"
        },
        "id": "HZA0Gy8U2jk0",
        "outputId": "5ff3174c-2002-447f-9307-50800e0c09a6"
      },
      "outputs": [
        {
          "output_type": "stream",
          "name": "stdout",
          "text": [
            "(79172, 4)\n",
            "(73595, 4)\n"
          ]
        }
      ],
      "source": [
        "print(df.shape)\n",
        "df = df.drop_duplicates()\n",
        "print(df.shape)"
      ]
    },
    {
      "cell_type": "markdown",
      "metadata": {
        "id": "xyOHQb8g2jk0"
      },
      "source": [
        "## Feature Engineering"
      ]
    },
    {
      "cell_type": "code",
      "execution_count": null,
      "metadata": {
        "colab": {
          "base_uri": "https://localhost:8080/",
          "height": 270
        },
        "id": "wdqy6FRk2jk1",
        "outputId": "005ee6e0-1ea2-46fd-881a-d74989d3a568"
      },
      "outputs": [
        {
          "output_type": "execute_result",
          "data": {
            "text/plain": [
              "       Voltage  Current  Temperature   WhAccu     Vmean\n",
              "78998  3.21183      0.0     24.08130 -9.27438  3.206406\n",
              "79011  3.21183      0.0     23.97615 -9.27438  3.206524\n",
              "79075  3.21200      0.0     23.97615 -9.27438  3.206640\n",
              "79102  3.21200      0.0     24.08130 -9.27438  3.206756\n",
              "79152  3.21217      0.0     24.08130 -9.27438  3.206871"
            ],
            "text/html": [
              "\n",
              "  <div id=\"df-a9a25ab9-ccb2-4d39-80bd-f76992b67132\">\n",
              "    <div class=\"colab-df-container\">\n",
              "      <div>\n",
              "<style scoped>\n",
              "    .dataframe tbody tr th:only-of-type {\n",
              "        vertical-align: middle;\n",
              "    }\n",
              "\n",
              "    .dataframe tbody tr th {\n",
              "        vertical-align: top;\n",
              "    }\n",
              "\n",
              "    .dataframe thead th {\n",
              "        text-align: right;\n",
              "    }\n",
              "</style>\n",
              "<table border=\"1\" class=\"dataframe\">\n",
              "  <thead>\n",
              "    <tr style=\"text-align: right;\">\n",
              "      <th></th>\n",
              "      <th>Voltage</th>\n",
              "      <th>Current</th>\n",
              "      <th>Temperature</th>\n",
              "      <th>WhAccu</th>\n",
              "      <th>Vmean</th>\n",
              "    </tr>\n",
              "  </thead>\n",
              "  <tbody>\n",
              "    <tr>\n",
              "      <th>78998</th>\n",
              "      <td>3.21183</td>\n",
              "      <td>0.0</td>\n",
              "      <td>24.08130</td>\n",
              "      <td>-9.27438</td>\n",
              "      <td>3.206406</td>\n",
              "    </tr>\n",
              "    <tr>\n",
              "      <th>79011</th>\n",
              "      <td>3.21183</td>\n",
              "      <td>0.0</td>\n",
              "      <td>23.97615</td>\n",
              "      <td>-9.27438</td>\n",
              "      <td>3.206524</td>\n",
              "    </tr>\n",
              "    <tr>\n",
              "      <th>79075</th>\n",
              "      <td>3.21200</td>\n",
              "      <td>0.0</td>\n",
              "      <td>23.97615</td>\n",
              "      <td>-9.27438</td>\n",
              "      <td>3.206640</td>\n",
              "    </tr>\n",
              "    <tr>\n",
              "      <th>79102</th>\n",
              "      <td>3.21200</td>\n",
              "      <td>0.0</td>\n",
              "      <td>24.08130</td>\n",
              "      <td>-9.27438</td>\n",
              "      <td>3.206756</td>\n",
              "    </tr>\n",
              "    <tr>\n",
              "      <th>79152</th>\n",
              "      <td>3.21217</td>\n",
              "      <td>0.0</td>\n",
              "      <td>24.08130</td>\n",
              "      <td>-9.27438</td>\n",
              "      <td>3.206871</td>\n",
              "    </tr>\n",
              "  </tbody>\n",
              "</table>\n",
              "</div>\n",
              "      <button class=\"colab-df-convert\" onclick=\"convertToInteractive('df-a9a25ab9-ccb2-4d39-80bd-f76992b67132')\"\n",
              "              title=\"Convert this dataframe to an interactive table.\"\n",
              "              style=\"display:none;\">\n",
              "        \n",
              "  <svg xmlns=\"http://www.w3.org/2000/svg\" height=\"24px\"viewBox=\"0 0 24 24\"\n",
              "       width=\"24px\">\n",
              "    <path d=\"M0 0h24v24H0V0z\" fill=\"none\"/>\n",
              "    <path d=\"M18.56 5.44l.94 2.06.94-2.06 2.06-.94-2.06-.94-.94-2.06-.94 2.06-2.06.94zm-11 1L8.5 8.5l.94-2.06 2.06-.94-2.06-.94L8.5 2.5l-.94 2.06-2.06.94zm10 10l.94 2.06.94-2.06 2.06-.94-2.06-.94-.94-2.06-.94 2.06-2.06.94z\"/><path d=\"M17.41 7.96l-1.37-1.37c-.4-.4-.92-.59-1.43-.59-.52 0-1.04.2-1.43.59L10.3 9.45l-7.72 7.72c-.78.78-.78 2.05 0 2.83L4 21.41c.39.39.9.59 1.41.59.51 0 1.02-.2 1.41-.59l7.78-7.78 2.81-2.81c.8-.78.8-2.07 0-2.86zM5.41 20L4 18.59l7.72-7.72 1.47 1.35L5.41 20z\"/>\n",
              "  </svg>\n",
              "      </button>\n",
              "      \n",
              "  <style>\n",
              "    .colab-df-container {\n",
              "      display:flex;\n",
              "      flex-wrap:wrap;\n",
              "      gap: 12px;\n",
              "    }\n",
              "\n",
              "    .colab-df-convert {\n",
              "      background-color: #E8F0FE;\n",
              "      border: none;\n",
              "      border-radius: 50%;\n",
              "      cursor: pointer;\n",
              "      display: none;\n",
              "      fill: #1967D2;\n",
              "      height: 32px;\n",
              "      padding: 0 0 0 0;\n",
              "      width: 32px;\n",
              "    }\n",
              "\n",
              "    .colab-df-convert:hover {\n",
              "      background-color: #E2EBFA;\n",
              "      box-shadow: 0px 1px 2px rgba(60, 64, 67, 0.3), 0px 1px 3px 1px rgba(60, 64, 67, 0.15);\n",
              "      fill: #174EA6;\n",
              "    }\n",
              "\n",
              "    [theme=dark] .colab-df-convert {\n",
              "      background-color: #3B4455;\n",
              "      fill: #D2E3FC;\n",
              "    }\n",
              "\n",
              "    [theme=dark] .colab-df-convert:hover {\n",
              "      background-color: #434B5C;\n",
              "      box-shadow: 0px 1px 3px 1px rgba(0, 0, 0, 0.15);\n",
              "      filter: drop-shadow(0px 1px 2px rgba(0, 0, 0, 0.3));\n",
              "      fill: #FFFFFF;\n",
              "    }\n",
              "  </style>\n",
              "\n",
              "      <script>\n",
              "        const buttonEl =\n",
              "          document.querySelector('#df-a9a25ab9-ccb2-4d39-80bd-f76992b67132 button.colab-df-convert');\n",
              "        buttonEl.style.display =\n",
              "          google.colab.kernel.accessAllowed ? 'block' : 'none';\n",
              "\n",
              "        async function convertToInteractive(key) {\n",
              "          const element = document.querySelector('#df-a9a25ab9-ccb2-4d39-80bd-f76992b67132');\n",
              "          const dataTable =\n",
              "            await google.colab.kernel.invokeFunction('convertToInteractive',\n",
              "                                                     [key], {});\n",
              "          if (!dataTable) return;\n",
              "\n",
              "          const docLinkHtml = 'Like what you see? Visit the ' +\n",
              "            '<a target=\"_blank\" href=https://colab.research.google.com/notebooks/data_table.ipynb>data table notebook</a>'\n",
              "            + ' to learn more about interactive tables.';\n",
              "          element.innerHTML = '';\n",
              "          dataTable['output_type'] = 'display_data';\n",
              "          await google.colab.output.renderOutput(dataTable, element);\n",
              "          const docLink = document.createElement('div');\n",
              "          docLink.innerHTML = docLinkHtml;\n",
              "          element.appendChild(docLink);\n",
              "        }\n",
              "      </script>\n",
              "    </div>\n",
              "  </div>\n",
              "  "
            ]
          },
          "metadata": {},
          "execution_count": 15
        }
      ],
      "source": [
        "V_num = 100\n",
        "V = []\n",
        "V[:V_num] = df.Voltage[:V_num]\n",
        "for i in range(V_num,len(df.Voltage)):\n",
        "    V.append(np.mean(df.Voltage[i-V_num:i]))\n",
        "df['Vmean'] = V\n",
        "df.tail()"
      ]
    },
    {
      "cell_type": "markdown",
      "metadata": {
        "id": "Tnzcm5lG2jk1"
      },
      "source": [
        "## Algorithm Selection"
      ]
    },
    {
      "cell_type": "code",
      "execution_count": null,
      "metadata": {
        "id": "6FEXX9C22jk2"
      },
      "outputs": [],
      "source": [
        "df['Temperature'] = df['Temperature'].astype(float)\n",
        "\n",
        "y = df.WhAccu\n",
        "X = df.drop('WhAccu', axis=1)"
      ]
    },
    {
      "cell_type": "code",
      "execution_count": null,
      "metadata": {
        "id": "rCPTCizo2jk2"
      },
      "outputs": [],
      "source": [
        "X_train, X_test, y_train, y_test = train_test_split(X, y, test_size = 0.2, random_state=1234)\n",
        "pipelines = {\n",
        "\n",
        "    'pr'    : make_pipeline(PolynomialFeatures(degree = 4), LinearRegression()),\n",
        "    'gb'    : make_pipeline(StandardScaler(), GradientBoostingRegressor(random_state=123)),\n",
        "    'svm'   : make_pipeline(StandardScaler(), SVR(kernel = 'rbf')),\n",
        "    'dt'    : make_pipeline(StandardScaler(), DecisionTreeRegressor(random_state=123)),\n",
        "    'rf'    : make_pipeline(StandardScaler(), RandomForestRegressor(random_state=123)),\n",
        "    'mlp'   : make_pipeline(StandardScaler(), MLPRegressor(random_state=123))\n",
        "}"
      ]
    },
    {
      "cell_type": "code",
      "execution_count": null,
      "metadata": {
        "colab": {
          "base_uri": "https://localhost:8080/"
        },
        "id": "s78Xwcp82jk3",
        "outputId": "f7314898-8cb6-4dc7-9b05-f6dbe4428fc7"
      },
      "outputs": [
        {
          "output_type": "stream",
          "name": "stdout",
          "text": [
            "pr <class 'sklearn.pipeline.Pipeline'>\n",
            "gb <class 'sklearn.pipeline.Pipeline'>\n",
            "svm <class 'sklearn.pipeline.Pipeline'>\n",
            "dt <class 'sklearn.pipeline.Pipeline'>\n",
            "rf <class 'sklearn.pipeline.Pipeline'>\n",
            "mlp <class 'sklearn.pipeline.Pipeline'>\n"
          ]
        }
      ],
      "source": [
        "# Check that we have all 5 model families, and that they are all pipelines\n",
        "for key, value in pipelines.items():\n",
        "    print( key, type(value) )"
      ]
    },
    {
      "cell_type": "code",
      "execution_count": null,
      "metadata": {
        "colab": {
          "base_uri": "https://localhost:8080/"
        },
        "id": "UzSsuCLl2jk3",
        "outputId": "d13c0e4a-c8b2-4d22-cff8-02463f3c3a4f"
      },
      "outputs": [
        {
          "output_type": "execute_result",
          "data": {
            "text/plain": [
              "MLPRegressor()"
            ]
          },
          "metadata": {},
          "execution_count": 19
        }
      ],
      "source": [
        "MLPRegressor()"
      ]
    },
    {
      "cell_type": "code",
      "execution_count": null,
      "metadata": {
        "id": "rTlDewEe2jk4"
      },
      "outputs": [],
      "source": [
        "\n",
        "pr_hyperparameters = {\n",
        "}\n",
        "\n",
        "gb_hyperparameters = {\n",
        "    'gradientboostingregressor__n_estimators': [10, 20],\n",
        "    'gradientboostingregressor__learning_rate' : [0.05, 0.1, 0.2],\n",
        "    'gradientboostingregressor__max_depth': [1, 3, 5]\n",
        "}\n",
        "\n",
        "svm_hyperparameters = {\n",
        "    'svr__C': [1.0],\n",
        "    'svr__gamma': ['scale']\n",
        "}\n",
        "\n",
        "dt_hyperparameters = {\n",
        "    'decisiontreeregressor__max_features': ['auto', 'sqrt', 0.33],\n",
        "}\n",
        "\n",
        "# Random forest hyperparameters\n",
        "rf_hyperparameters = {\n",
        "    'randomforestregressor__n_estimators' : [10, 20],\n",
        "    'randomforestregressor__max_features': ['auto', 'sqrt', 0.33],\n",
        "}\n",
        "\n",
        "# Boosted tree hyperparameters\n",
        "\n",
        "# MLP hyperparameters\n",
        "mlp_hyperparameters = {\n",
        "    'mlpregressor__hidden_layer_sizes': [(100,)],\n",
        "    'mlpregressor__activation': ['logistic', 'relu']\n",
        "}\n",
        "\n",
        "# Create hyperparameters dictionary\n",
        "hyperparameters = {\n",
        "    'pr': pr_hyperparameters,\n",
        "    'gb' : gb_hyperparameters,\n",
        "    'svm': svm_hyperparameters,\n",
        "    'dt': dt_hyperparameters,\n",
        "    'rf' : rf_hyperparameters,\n",
        "    'mlp': mlp_hyperparameters\n",
        "}"
      ]
    },
    {
      "cell_type": "code",
      "execution_count": null,
      "metadata": {
        "colab": {
          "base_uri": "https://localhost:8080/"
        },
        "id": "Z7kB_09H2jk5",
        "outputId": "dc5cb24b-3359-4a1f-d264-82b58f8eb31c"
      },
      "outputs": [
        {
          "output_type": "stream",
          "name": "stdout",
          "text": [
            "pr was found in hyperparameters, and it is a grid.\n",
            "gb was found in hyperparameters, and it is a grid.\n",
            "svm was found in hyperparameters, and it is a grid.\n",
            "dt was found in hyperparameters, and it is a grid.\n",
            "rf was found in hyperparameters, and it is a grid.\n",
            "mlp was found in hyperparameters, and it is a grid.\n"
          ]
        }
      ],
      "source": [
        "for key in ['pr', 'gb', 'svm', 'dt', 'rf', 'mlp']:\n",
        "    if key in hyperparameters:\n",
        "        if type(hyperparameters[key]) is dict:\n",
        "            print( key, 'was found in hyperparameters, and it is a grid.' )\n",
        "        else:\n",
        "            print( key, 'was found in hyperparameters, but it is not a grid.' )\n",
        "    else:\n",
        "        print( key, 'was not found in hyperparameters')"
      ]
    },
    {
      "cell_type": "code",
      "execution_count": null,
      "metadata": {
        "colab": {
          "base_uri": "https://localhost:8080/"
        },
        "id": "vLl0S7wr2jk5",
        "outputId": "d90d22c0-4b82-45ab-d4f0-4a06b38d8485"
      },
      "outputs": [
        {
          "output_type": "stream",
          "name": "stdout",
          "text": [
            "pr has been fitted.\n",
            "gb has been fitted.\n",
            "svm has been fitted.\n",
            "dt has been fitted.\n",
            "rf has been fitted.\n",
            "mlp has been fitted.\n"
          ]
        }
      ],
      "source": [
        "# Create empty dictionary called fitted_models\n",
        "fitted_models = {}\n",
        "\n",
        "# Loop through model pipelines, tuning each one and saving it to fitted_models\n",
        "for name, pipeline in pipelines.items():\n",
        "    model = GridSearchCV(pipeline, hyperparameters[name], cv=10, n_jobs=-1)\n",
        "\n",
        "    # Fit model on X_train, y_train\n",
        "    model.fit(X_train, y_train)\n",
        "\n",
        "    # Store model in fitted_models[name]\n",
        "    fitted_models[name] = model\n",
        "\n",
        "    # Print '{name} has been fitted'\n",
        "    print(name, 'has been fitted.')"
      ]
    },
    {
      "cell_type": "code",
      "execution_count": null,
      "metadata": {
        "id": "5hqQ2odh2jk6"
      },
      "outputs": [],
      "source": [
        "# pipeline = make_pipeline(StandardScaler(), MLPRegressor(random_state=123))\n",
        "# model = GridSearchCV(pipeline , hyperparameters['mlp'], cv=10, n_jobs=-1)\n",
        "\n",
        "# # Fit model on X_train, y_train\n",
        "# model.fit(X_train, y_train)\n",
        "\n",
        "# # Print '{name} has been fitted'\n",
        "# print('mlp', 'has been fitted.')"
      ]
    },
    {
      "cell_type": "code",
      "execution_count": null,
      "metadata": {
        "colab": {
          "base_uri": "https://localhost:8080/"
        },
        "id": "26QNVPtt2jk6",
        "outputId": "a73fd963-e136-4265-93f1-756e7d5d37a0"
      },
      "outputs": [
        {
          "output_type": "stream",
          "name": "stdout",
          "text": [
            "pr has been fitted.\n",
            "gb has been fitted.\n",
            "svm has been fitted.\n",
            "dt has been fitted.\n",
            "rf has been fitted.\n",
            "mlp has been fitted.\n"
          ]
        }
      ],
      "source": [
        "for name, model in fitted_models.items():\n",
        "    try:\n",
        "        pred = model.predict(X_test)\n",
        "        print (name, 'has been fitted.')\n",
        "    except NotFittedError as e:\n",
        "        print(repr(e))"
      ]
    },
    {
      "cell_type": "markdown",
      "metadata": {
        "id": "5m38TMcn2jk7"
      },
      "source": [
        "## Model Selection"
      ]
    },
    {
      "cell_type": "code",
      "execution_count": null,
      "metadata": {
        "colab": {
          "base_uri": "https://localhost:8080/"
        },
        "id": "MaHmaqcy2jk7",
        "outputId": "3ec43213-f3c5-4e10-86d2-f801450a01b4"
      },
      "outputs": [
        {
          "output_type": "stream",
          "name": "stdout",
          "text": [
            "pr 0.9967446462470253\n",
            "gb 0.9942028701549717\n",
            "svm 0.9971800732526725\n",
            "dt 0.9989542128732435\n",
            "rf 0.9995453985617775\n",
            "mlp 0.9971895233852359\n"
          ]
        }
      ],
      "source": [
        "for name, model in fitted_models.items():\n",
        "    print(name, model.best_score_)"
      ]
    },
    {
      "cell_type": "code",
      "execution_count": null,
      "metadata": {
        "colab": {
          "base_uri": "https://localhost:8080/"
        },
        "id": "Gmfk8mSy2jk7",
        "outputId": "74b807b7-a08a-42ea-89f0-b4ad552f3a36"
      },
      "outputs": [
        {
          "output_type": "stream",
          "name": "stdout",
          "text": [
            "pr\n",
            "R2: 0.9968023907911783\n",
            "MAE: 0.11173614619670523\n",
            "gb\n",
            "R2: 0.9942633305395342\n",
            "MAE: 0.1447193144799045\n",
            "svm\n",
            "R2: 0.9972164175006951\n",
            "MAE: 0.10351002679683595\n",
            "dt\n",
            "R2: 0.9991116811178181\n",
            "MAE: 0.012127485684045883\n",
            "rf\n",
            "R2: 0.9996239508467087\n",
            "MAE: 0.016554050282898948\n",
            "mlp\n",
            "R2: 0.9972263135537608\n",
            "MAE: 0.10090294292496983\n"
          ]
        }
      ],
      "source": [
        "for name,model in fitted_models.items():\n",
        "    pred = fitted_models[name].predict(X_test)\n",
        "    print(name)\n",
        "    print('R2:', r2_score(y_test, pred))\n",
        "    print('MAE:', mean_absolute_error(y_test, pred))"
      ]
    },
    {
      "cell_type": "code",
      "execution_count": null,
      "metadata": {
        "id": "eh1r14Cm2jk8"
      },
      "outputs": [],
      "source": [
        "# RF wins!"
      ]
    },
    {
      "cell_type": "markdown",
      "metadata": {
        "id": "o5oig70K1x6C"
      },
      "source": [
        "K FOLD and GRID SEARCH"
      ]
    },
    {
      "cell_type": "code",
      "execution_count": null,
      "metadata": {
        "id": "_1llVHNPyWkZ"
      },
      "outputs": [],
      "source": []
    },
    {
      "cell_type": "code",
      "execution_count": null,
      "metadata": {
        "id": "N5puHSW9ydyi"
      },
      "outputs": [],
      "source": [
        "#from sklearn.model_selection import cross_val_score\n",
        "#for name,model in fitted_models.items():\n",
        " # accuracies = cross_val_score(estimator = fitted_models[name], X = X_train, y = y_train, cv = 10)\n",
        "  #print(\"Accuracy: {:.2f} %\".format(accuracies.mean()*100))\n",
        "  #print(\"Standard Deviation: {:.2f} %\".format(accuracies.std()*100))"
      ]
    },
    {
      "cell_type": "code",
      "execution_count": null,
      "metadata": {
        "id": "KU4I-ALV0kj0"
      },
      "outputs": [],
      "source": [
        "#from sklearn.model_selection import GridSearchCV\n",
        "#parameters = [{'C': [0.25, 0.5, 0.75, 1], 'kernel': ['linear']},\n",
        "              #{'C': [0.25, 0.5, 0.75, 1], 'kernel': ['rbf'], 'gamma': [0.1, 0.2, 0.3, 0.4, 0.5, 0.6, 0.7, 0.8, 0.9]}]\n",
        "#grid_search = GridSearchCV(estimator = fitted_models[name],\n",
        "                           #param_grid = parameters,\n",
        "                           #scoring = 'accuracy',\n",
        "                           #cv = 10,\n",
        "                           #n_jobs = -1)\n",
        "#grid_search.fit(X_train, y_train)\n",
        "#best_accuracy = grid_search.best_score_\n",
        "#best_parameters = grid_search.best_params_\n",
        "#print(\"Best Accuracy: {:.2f} %\".format(best_accuracy*100))\n",
        "#print(\"Best Parameters:\", best_parameters)"
      ]
    },
    {
      "cell_type": "markdown",
      "metadata": {
        "id": "P-mdiYzu2jk8"
      },
      "source": [
        "## Insight & Analysis"
      ]
    },
    {
      "cell_type": "code",
      "execution_count": null,
      "metadata": {
        "id": "3FedwaZH2jk8",
        "colab": {
          "base_uri": "https://localhost:8080/",
          "height": 279
        },
        "outputId": "50cdb56d-10dd-4099-b9a7-d7d8ae0b5119"
      },
      "outputs": [
        {
          "output_type": "display_data",
          "data": {
            "text/plain": [
              "<Figure size 432x288 with 1 Axes>"
            ],
            "image/png": "[encoded data removed]"
          },
          "metadata": {}
        }
      ],
      "source": [
        "rf_pred = fitted_models['rf'].predict(X_test)\n",
        "plt.scatter(rf_pred, y_test,color = '#ff0000',alpha=0.6,s=6)\n",
        "plt.xlabel('predicted')\n",
        "plt.ylabel('actual')\n",
        "plt.show()"
      ]
    },
    {
      "cell_type": "code",
      "execution_count": null,
      "metadata": {
        "id": "XYjqSA4QBK7E",
        "colab": {
          "base_uri": "https://localhost:8080/",
          "height": 279
        },
        "outputId": "0bd3a7a4-674f-49e1-d605-ed6d010aa20d"
      },
      "outputs": [
        {
          "output_type": "display_data",
          "data": {
            "text/plain": [
              "<Figure size 432x288 with 1 Axes>"
            ],
            "image/png": "[encoded data removed]"
          },
          "metadata": {}
        }
      ],
      "source": [
        "mlp_pred = fitted_models['mlp'].predict(X_test)\n",
        "plt.scatter(mlp_pred, y_test,color = '#ff0000',alpha=0.6,s=6)\n",
        "plt.xlabel('predicted')\n",
        "plt.ylabel('actual')\n",
        "plt.show()"
      ]
    },
    {
      "cell_type": "code",
      "execution_count": null,
      "metadata": {
        "id": "GX8oeFNUBLP6",
        "colab": {
          "base_uri": "https://localhost:8080/",
          "height": 54
        },
        "outputId": "2708478d-ac5d-401f-8149-c9082b768a41"
      },
      "outputs": [
        {
          "output_type": "display_data",
          "data": {
            "text/plain": [
              "<Figure size 432x288 with 1 Axes>"
            ],
            "image/png": "[encoded data removed]"
          },
          "metadata": {}
        }
      ],
      "source": [
        "gb_pred = fitted_models['gb'].predict(X_test)\n",
        "plt.scatter(gb_pred, y_test,color = '#ff0000',alpha=0.6,s=6)\n",
        "plt.xlabel('predicted')\n",
        "plt.ylabel('actual')\n",
        "plt.show()"
      ]
    },
    {
      "cell_type": "code",
      "execution_count": null,
      "metadata": {
        "id": "y8hSvne5BLcL",
        "colab": {
          "base_uri": "https://localhost:8080/",
          "height": 279
        },
        "outputId": "ac396d43-c65d-49b9-c29f-beba5bf3a1c6"
      },
      "outputs": [
        {
          "output_type": "display_data",
          "data": {
            "text/plain": [
              "<Figure size 432x288 with 1 Axes>"
            ],
            "image/png": "[encoded data removed]"
          },
          "metadata": {}
        }
      ],
      "source": [
        "svm_pred = fitted_models['svm'].predict(X_test)\n",
        "plt.scatter(svm_pred, y_test,color = '#ff0000',alpha=0.6,s=6)\n",
        "plt.xlabel('predicted')\n",
        "plt.ylabel('actual')\n",
        "plt.show()"
      ]
    },
    {
      "cell_type": "code",
      "execution_count": null,
      "metadata": {
        "id": "dMKJuI5HBLnH",
        "colab": {
          "base_uri": "https://localhost:8080/",
          "height": 279
        },
        "outputId": "842a32f7-44f6-40f7-f129-8ebda4140abc"
      },
      "outputs": [
        {
          "output_type": "display_data",
          "data": {
            "text/plain": [
              "<Figure size 432x288 with 1 Axes>"
            ],
            "image/png": "[encoded data removed]"
          },
          "metadata": {}
        }
      ],
      "source": [
        "dt_pred = fitted_models['dt'].predict(X_test)\n",
        "plt.scatter(dt_pred, y_test,color = '#ff0000',alpha=0.6,s=6)\n",
        "plt.xlabel('predicted')\n",
        "plt.ylabel('actual')\n",
        "plt.show()"
      ]
    },
    {
      "cell_type": "code",
      "execution_count": null,
      "metadata": {
        "id": "5YHR5TfOBLxI",
        "colab": {
          "base_uri": "https://localhost:8080/",
          "height": 279
        },
        "outputId": "3a13a027-4168-4aa8-ffb6-2d3ef254e8f1"
      },
      "outputs": [
        {
          "output_type": "display_data",
          "data": {
            "text/plain": [
              "<Figure size 432x288 with 1 Axes>"
            ],
            "image/png": "[encoded data removed]"
          },
          "metadata": {}
        }
      ],
      "source": [
        "pr_pred = fitted_models['pr'].predict(X_test)\n",
        "plt.scatter(pr_pred, y_test,color = '#ff0000',alpha=0.6,s=6)\n",
        "plt.xlabel('predicted')\n",
        "plt.ylabel('actual')\n",
        "plt.show()"
      ]
    }
  ],
  "metadata": {
    "colab": {
      "provenance": []
    },
    "kernelspec": {
      "display_name": "Python 3",
      "language": "python",
      "name": "python3"
    },
    "language_info": {
      "codemirror_mode": {
        "name": "ipython",
        "version": 3
      },
      "file_extension": ".py",
      "mimetype": "text/x-python",
      "name": "python",
      "nbconvert_exporter": "python",
      "pygments_lexer": "ipython3",
      "version": "3.7.4"
    }
  },
  "nbformat": 4,
  "nbformat_minor": 0
}