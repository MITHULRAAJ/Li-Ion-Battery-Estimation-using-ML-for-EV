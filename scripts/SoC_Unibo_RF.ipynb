{
  "cells": [
    {
      "cell_type": "markdown",
      "metadata": {
        "id": "SsZTHMCE2jkn"
      },
      "source": [
        "## Library Imports"
      ]
    },
    {
      "cell_type": "code",
      "execution_count": null,
      "metadata": {
        "id": "PVHA6K8o2jko"
      },
      "outputs": [],
      "source": [
        "# Numpy and Pandas\n",
        "import numpy as np\n",
        "import pandas as pd\n",
        "\n",
        "# Vizualization\n",
        "from matplotlib import pyplot as plt\n",
        "%matplotlib inline\n",
        "import seaborn as sns\n",
        "sns.set_style('darkgrid')\n",
        "\n",
        "# Machine learning algorithms\n",
        "from sklearn.ensemble import RandomForestRegressor, GradientBoostingRegressor\n",
        "from sklearn.neural_network import MLPRegressor\n",
        "from sklearn.svm import SVR\n",
        "from sklearn.linear_model import LinearRegression\n",
        "from sklearn.tree import DecisionTreeRegressor\n",
        "\n",
        "# Machine learning pipeline\n",
        "from sklearn.model_selection import train_test_split\n",
        "from sklearn.pipeline import make_pipeline\n",
        "from sklearn.preprocessing import StandardScaler\n",
        "from sklearn.preprocessing import PolynomialFeatures\n",
        "from sklearn.model_selection import GridSearchCV\n",
        "\n",
        "# Regression Metrics\n",
        "from sklearn.metrics import mean_absolute_error\n",
        "from sklearn.metrics import r2_score\n",
        "\n",
        "# Ignore ConvergenceWarning messages\n",
        "import warnings\n",
        "from sklearn.exceptions import ConvergenceWarning\n",
        "warnings.simplefilter(action='ignore', category=ConvergenceWarning)\n",
        "\n",
        "# Check the fitted_model\n",
        "from sklearn.exceptions import NotFittedError\n",
        "\n",
        "# Save python obect to disk\n",
        "import pickle"
      ]
    },
    {
      "cell_type": "markdown",
      "metadata": {
        "id": "yZ9b-ZYZ2jkq"
      },
      "source": [
        "## Exploratory Analysis"
      ]
    },
    {
      "cell_type": "code",
      "execution_count": null,
      "metadata": {
        "colab": {
          "base_uri": "https://localhost:8080/",
          "height": 206
        },
        "id": "K4C_VjNf2jkq",
        "outputId": "228d1113-c7d0-4fec-a3ba-94db1d578875"
      },
      "outputs": [
        {
          "output_type": "execute_result",
          "data": {
            "text/plain": [
              "    Voltage   Current  Temperature     WhAccu\n",
              "0  2.499433 -5.001215      34.0533   0.860516\n",
              "1  4.200306  0.148718      26.8295   0.000000\n",
              "2  2.499817 -0.600717      28.3506  10.679774\n",
              "3  4.200306  0.149368      26.0049   0.000000\n",
              "4  4.162334 -0.500706      25.6872   0.005783"
            ],
            "text/html": [
              "\n",
              "  <div id=\"df-d93544a6-1eb3-4abe-8fec-8dcebff3ec83\">\n",
              "    <div class=\"colab-df-container\">\n",
              "      <div>\n",
              "<style scoped>\n",
              "    .dataframe tbody tr th:only-of-type {\n",
              "        vertical-align: middle;\n",
              "    }\n",
              "\n",
              "    .dataframe tbody tr th {\n",
              "        vertical-align: top;\n",
              "    }\n",
              "\n",
              "    .dataframe thead th {\n",
              "        text-align: right;\n",
              "    }\n",
              "</style>\n",
              "<table border=\"1\" class=\"dataframe\">\n",
              "  <thead>\n",
              "    <tr style=\"text-align: right;\">\n",
              "      <th></th>\n",
              "      <th>Voltage</th>\n",
              "      <th>Current</th>\n",
              "      <th>Temperature</th>\n",
              "      <th>WhAccu</th>\n",
              "    </tr>\n",
              "  </thead>\n",
              "  <tbody>\n",
              "    <tr>\n",
              "      <th>0</th>\n",
              "      <td>2.499433</td>\n",
              "      <td>-5.001215</td>\n",
              "      <td>34.0533</td>\n",
              "      <td>0.860516</td>\n",
              "    </tr>\n",
              "    <tr>\n",
              "      <th>1</th>\n",
              "      <td>4.200306</td>\n",
              "      <td>0.148718</td>\n",
              "      <td>26.8295</td>\n",
              "      <td>0.000000</td>\n",
              "    </tr>\n",
              "    <tr>\n",
              "      <th>2</th>\n",
              "      <td>2.499817</td>\n",
              "      <td>-0.600717</td>\n",
              "      <td>28.3506</td>\n",
              "      <td>10.679774</td>\n",
              "    </tr>\n",
              "    <tr>\n",
              "      <th>3</th>\n",
              "      <td>4.200306</td>\n",
              "      <td>0.149368</td>\n",
              "      <td>26.0049</td>\n",
              "      <td>0.000000</td>\n",
              "    </tr>\n",
              "    <tr>\n",
              "      <th>4</th>\n",
              "      <td>4.162334</td>\n",
              "      <td>-0.500706</td>\n",
              "      <td>25.6872</td>\n",
              "      <td>0.005783</td>\n",
              "    </tr>\n",
              "  </tbody>\n",
              "</table>\n",
              "</div>\n",
              "      <button class=\"colab-df-convert\" onclick=\"convertToInteractive('df-d93544a6-1eb3-4abe-8fec-8dcebff3ec83')\"\n",
              "              title=\"Convert this dataframe to an interactive table.\"\n",
              "              style=\"display:none;\">\n",
              "        \n",
              "  <svg xmlns=\"http://www.w3.org/2000/svg\" height=\"24px\"viewBox=\"0 0 24 24\"\n",
              "       width=\"24px\">\n",
              "    <path d=\"M0 0h24v24H0V0z\" fill=\"none\"/>\n",
              "    <path d=\"M18.56 5.44l.94 2.06.94-2.06 2.06-.94-2.06-.94-.94-2.06-.94 2.06-2.06.94zm-11 1L8.5 8.5l.94-2.06 2.06-.94-2.06-.94L8.5 2.5l-.94 2.06-2.06.94zm10 10l.94 2.06.94-2.06 2.06-.94-2.06-.94-.94-2.06-.94 2.06-2.06.94z\"/><path d=\"M17.41 7.96l-1.37-1.37c-.4-.4-.92-.59-1.43-.59-.52 0-1.04.2-1.43.59L10.3 9.45l-7.72 7.72c-.78.78-.78 2.05 0 2.83L4 21.41c.39.39.9.59 1.41.59.51 0 1.02-.2 1.41-.59l7.78-7.78 2.81-2.81c.8-.78.8-2.07 0-2.86zM5.41 20L4 18.59l7.72-7.72 1.47 1.35L5.41 20z\"/>\n",
              "  </svg>\n",
              "      </button>\n",
              "      \n",
              "  <style>\n",
              "    .colab-df-container {\n",
              "      display:flex;\n",
              "      flex-wrap:wrap;\n",
              "      gap: 12px;\n",
              "    }\n",
              "\n",
              "    .colab-df-convert {\n",
              "      background-color: #E8F0FE;\n",
              "      border: none;\n",
              "      border-radius: 50%;\n",
              "      cursor: pointer;\n",
              "      display: none;\n",
              "      fill: #1967D2;\n",
              "      height: 32px;\n",
              "      padding: 0 0 0 0;\n",
              "      width: 32px;\n",
              "    }\n",
              "\n",
              "    .colab-df-convert:hover {\n",
              "      background-color: #E2EBFA;\n",
              "      box-shadow: 0px 1px 2px rgba(60, 64, 67, 0.3), 0px 1px 3px 1px rgba(60, 64, 67, 0.15);\n",
              "      fill: #174EA6;\n",
              "    }\n",
              "\n",
              "    [theme=dark] .colab-df-convert {\n",
              "      background-color: #3B4455;\n",
              "      fill: #D2E3FC;\n",
              "    }\n",
              "\n",
              "    [theme=dark] .colab-df-convert:hover {\n",
              "      background-color: #434B5C;\n",
              "      box-shadow: 0px 1px 3px 1px rgba(0, 0, 0, 0.15);\n",
              "      filter: drop-shadow(0px 1px 2px rgba(0, 0, 0, 0.3));\n",
              "      fill: #FFFFFF;\n",
              "    }\n",
              "  </style>\n",
              "\n",
              "      <script>\n",
              "        const buttonEl =\n",
              "          document.querySelector('#df-d93544a6-1eb3-4abe-8fec-8dcebff3ec83 button.colab-df-convert');\n",
              "        buttonEl.style.display =\n",
              "          google.colab.kernel.accessAllowed ? 'block' : 'none';\n",
              "\n",
              "        async function convertToInteractive(key) {\n",
              "          const element = document.querySelector('#df-d93544a6-1eb3-4abe-8fec-8dcebff3ec83');\n",
              "          const dataTable =\n",
              "            await google.colab.kernel.invokeFunction('convertToInteractive',\n",
              "                                                     [key], {});\n",
              "          if (!dataTable) return;\n",
              "\n",
              "          const docLinkHtml = 'Like what you see? Visit the ' +\n",
              "            '<a target=\"_blank\" href=https://colab.research.google.com/notebooks/data_table.ipynb>data table notebook</a>'\n",
              "            + ' to learn more about interactive tables.';\n",
              "          element.innerHTML = '';\n",
              "          dataTable['output_type'] = 'display_data';\n",
              "          await google.colab.output.renderOutput(dataTable, element);\n",
              "          const docLink = document.createElement('div');\n",
              "          docLink.innerHTML = docLinkHtml;\n",
              "          element.appendChild(docLink);\n",
              "        }\n",
              "      </script>\n",
              "    </div>\n",
              "  </div>\n",
              "  "
            ]
          },
          "metadata": {},
          "execution_count": 2
        }
      ],
      "source": [
        "df = pd.read_csv('testingunibo.csv')\n",
        "df.head()"
      ]
    },
    {
      "cell_type": "code",
      "execution_count": null,
      "metadata": {
        "colab": {
          "base_uri": "https://localhost:8080/",
          "height": 831
        },
        "id": "hfBj0a0Q2jks",
        "outputId": "929e73b9-8d65-4b51-94a4-7501903af512"
      },
      "outputs": [
        {
          "output_type": "display_data",
          "data": {
            "text/plain": [
              "<Figure size 1008x1008 with 4 Axes>"
            ],
            "image/png": "[encoded data removed]"
          },
          "metadata": {}
        }
      ],
      "source": [
        "df.hist(figsize=(14,14), xrot=-45)\n",
        "plt.show()"
      ]
    },
    {
      "cell_type": "code",
      "execution_count": null,
      "metadata": {
        "colab": {
          "base_uri": "https://localhost:8080/",
          "height": 300
        },
        "id": "VukVfCWI2jkt",
        "outputId": "94ff3d86-5389-4757-f563-8a9811b59dac"
      },
      "outputs": [
        {
          "output_type": "execute_result",
          "data": {
            "text/plain": [
              "             Voltage        Current    Temperature         WhAccu\n",
              "count  417164.000000  417164.000000  417164.000000  417164.000000\n",
              "mean        3.569763      -2.742482      28.587222       4.668423\n",
              "std         0.398385       2.323133       5.048606       2.949571\n",
              "min         0.000192      -8.004625      21.174000       0.000000\n",
              "25%         3.373635      -5.000165      26.282800       2.157451\n",
              "50%         3.608168      -0.502270      27.510700       4.678542\n",
              "75%         3.859310      -0.500043      29.123400       6.991750\n",
              "max         6.282821       1.806616      71.143100      14.400994"
            ],
            "text/html": [
              "\n",
              "  <div id=\"df-45d0ce55-1b0c-4b42-8a8f-1f874b06a946\">\n",
              "    <div class=\"colab-df-container\">\n",
              "      <div>\n",
              "<style scoped>\n",
              "    .dataframe tbody tr th:only-of-type {\n",
              "        vertical-align: middle;\n",
              "    }\n",
              "\n",
              "    .dataframe tbody tr th {\n",
              "        vertical-align: top;\n",
              "    }\n",
              "\n",
              "    .dataframe thead th {\n",
              "        text-align: right;\n",
              "    }\n",
              "</style>\n",
              "<table border=\"1\" class=\"dataframe\">\n",
              "  <thead>\n",
              "    <tr style=\"text-align: right;\">\n",
              "      <th></th>\n",
              "      <th>Voltage</th>\n",
              "      <th>Current</th>\n",
              "      <th>Temperature</th>\n",
              "      <th>WhAccu</th>\n",
              "    </tr>\n",
              "  </thead>\n",
              "  <tbody>\n",
              "    <tr>\n",
              "      <th>count</th>\n",
              "      <td>417164.000000</td>\n",
              "      <td>417164.000000</td>\n",
              "      <td>417164.000000</td>\n",
              "      <td>417164.000000</td>\n",
              "    </tr>\n",
              "    <tr>\n",
              "      <th>mean</th>\n",
              "      <td>3.569763</td>\n",
              "      <td>-2.742482</td>\n",
              "      <td>28.587222</td>\n",
              "      <td>4.668423</td>\n",
              "    </tr>\n",
              "    <tr>\n",
              "      <th>std</th>\n",
              "      <td>0.398385</td>\n",
              "      <td>2.323133</td>\n",
              "      <td>5.048606</td>\n",
              "      <td>2.949571</td>\n",
              "    </tr>\n",
              "    <tr>\n",
              "      <th>min</th>\n",
              "      <td>0.000192</td>\n",
              "      <td>-8.004625</td>\n",
              "      <td>21.174000</td>\n",
              "      <td>0.000000</td>\n",
              "    </tr>\n",
              "    <tr>\n",
              "      <th>25%</th>\n",
              "      <td>3.373635</td>\n",
              "      <td>-5.000165</td>\n",
              "      <td>26.282800</td>\n",
              "      <td>2.157451</td>\n",
              "    </tr>\n",
              "    <tr>\n",
              "      <th>50%</th>\n",
              "      <td>3.608168</td>\n",
              "      <td>-0.502270</td>\n",
              "      <td>27.510700</td>\n",
              "      <td>4.678542</td>\n",
              "    </tr>\n",
              "    <tr>\n",
              "      <th>75%</th>\n",
              "      <td>3.859310</td>\n",
              "      <td>-0.500043</td>\n",
              "      <td>29.123400</td>\n",
              "      <td>6.991750</td>\n",
              "    </tr>\n",
              "    <tr>\n",
              "      <th>max</th>\n",
              "      <td>6.282821</td>\n",
              "      <td>1.806616</td>\n",
              "      <td>71.143100</td>\n",
              "      <td>14.400994</td>\n",
              "    </tr>\n",
              "  </tbody>\n",
              "</table>\n",
              "</div>\n",
              "      <button class=\"colab-df-convert\" onclick=\"convertToInteractive('df-45d0ce55-1b0c-4b42-8a8f-1f874b06a946')\"\n",
              "              title=\"Convert this dataframe to an interactive table.\"\n",
              "              style=\"display:none;\">\n",
              "        \n",
              "  <svg xmlns=\"http://www.w3.org/2000/svg\" height=\"24px\"viewBox=\"0 0 24 24\"\n",
              "       width=\"24px\">\n",
              "    <path d=\"M0 0h24v24H0V0z\" fill=\"none\"/>\n",
              "    <path d=\"M18.56 5.44l.94 2.06.94-2.06 2.06-.94-2.06-.94-.94-2.06-.94 2.06-2.06.94zm-11 1L8.5 8.5l.94-2.06 2.06-.94-2.06-.94L8.5 2.5l-.94 2.06-2.06.94zm10 10l.94 2.06.94-2.06 2.06-.94-2.06-.94-.94-2.06-.94 2.06-2.06.94z\"/><path d=\"M17.41 7.96l-1.37-1.37c-.4-.4-.92-.59-1.43-.59-.52 0-1.04.2-1.43.59L10.3 9.45l-7.72 7.72c-.78.78-.78 2.05 0 2.83L4 21.41c.39.39.9.59 1.41.59.51 0 1.02-.2 1.41-.59l7.78-7.78 2.81-2.81c.8-.78.8-2.07 0-2.86zM5.41 20L4 18.59l7.72-7.72 1.47 1.35L5.41 20z\"/>\n",
              "  </svg>\n",
              "      </button>\n",
              "      \n",
              "  <style>\n",
              "    .colab-df-container {\n",
              "      display:flex;\n",
              "      flex-wrap:wrap;\n",
              "      gap: 12px;\n",
              "    }\n",
              "\n",
              "    .colab-df-convert {\n",
              "      background-color: #E8F0FE;\n",
              "      border: none;\n",
              "      border-radius: 50%;\n",
              "      cursor: pointer;\n",
              "      display: none;\n",
              "      fill: #1967D2;\n",
              "      height: 32px;\n",
              "      padding: 0 0 0 0;\n",
              "      width: 32px;\n",
              "    }\n",
              "\n",
              "    .colab-df-convert:hover {\n",
              "      background-color: #E2EBFA;\n",
              "      box-shadow: 0px 1px 2px rgba(60, 64, 67, 0.3), 0px 1px 3px 1px rgba(60, 64, 67, 0.15);\n",
              "      fill: #174EA6;\n",
              "    }\n",
              "\n",
              "    [theme=dark] .colab-df-convert {\n",
              "      background-color: #3B4455;\n",
              "      fill: #D2E3FC;\n",
              "    }\n",
              "\n",
              "    [theme=dark] .colab-df-convert:hover {\n",
              "      background-color: #434B5C;\n",
              "      box-shadow: 0px 1px 3px 1px rgba(0, 0, 0, 0.15);\n",
              "      filter: drop-shadow(0px 1px 2px rgba(0, 0, 0, 0.3));\n",
              "      fill: #FFFFFF;\n",
              "    }\n",
              "  </style>\n",
              "\n",
              "      <script>\n",
              "        const buttonEl =\n",
              "          document.querySelector('#df-45d0ce55-1b0c-4b42-8a8f-1f874b06a946 button.colab-df-convert');\n",
              "        buttonEl.style.display =\n",
              "          google.colab.kernel.accessAllowed ? 'block' : 'none';\n",
              "\n",
              "        async function convertToInteractive(key) {\n",
              "          const element = document.querySelector('#df-45d0ce55-1b0c-4b42-8a8f-1f874b06a946');\n",
              "          const dataTable =\n",
              "            await google.colab.kernel.invokeFunction('convertToInteractive',\n",
              "                                                     [key], {});\n",
              "          if (!dataTable) return;\n",
              "\n",
              "          const docLinkHtml = 'Like what you see? Visit the ' +\n",
              "            '<a target=\"_blank\" href=https://colab.research.google.com/notebooks/data_table.ipynb>data table notebook</a>'\n",
              "            + ' to learn more about interactive tables.';\n",
              "          element.innerHTML = '';\n",
              "          dataTable['output_type'] = 'display_data';\n",
              "          await google.colab.output.renderOutput(dataTable, element);\n",
              "          const docLink = document.createElement('div');\n",
              "          docLink.innerHTML = docLinkHtml;\n",
              "          element.appendChild(docLink);\n",
              "        }\n",
              "      </script>\n",
              "    </div>\n",
              "  </div>\n",
              "  "
            ]
          },
          "metadata": {},
          "execution_count": 4
        }
      ],
      "source": [
        "df.describe()"
      ]
    },
    {
      "cell_type": "code",
      "execution_count": null,
      "metadata": {
        "colab": {
          "base_uri": "https://localhost:8080/",
          "height": 265
        },
        "id": "AhWLXams2jku",
        "outputId": "056e7396-cc7a-4b3c-fdc7-d43c51df387b"
      },
      "outputs": [
        {
          "output_type": "display_data",
          "data": {
            "text/plain": [
              "<Figure size 432x288 with 1 Axes>"
            ],
            "image/png": "[encoded data removed]"
          },
          "metadata": {}
        }
      ],
      "source": [
        "df.Voltage.hist()\n",
        "plt.show()"
      ]
    },
    {
      "cell_type": "code",
      "execution_count": null,
      "metadata": {
        "colab": {
          "base_uri": "https://localhost:8080/",
          "height": 265
        },
        "id": "KvM540QX2jkv",
        "outputId": "30ea3159-bf59-4ba5-e9f1-ec05e64c77d4"
      },
      "outputs": [
        {
          "output_type": "display_data",
          "data": {
            "text/plain": [
              "<Figure size 432x288 with 1 Axes>"
            ],
            "image/png": "[encoded data removed]"
          },
          "metadata": {}
        }
      ],
      "source": [
        "df.WhAccu.hist()\n",
        "plt.show()"
      ]
    },
    {
      "cell_type": "code",
      "execution_count": null,
      "metadata": {
        "colab": {
          "base_uri": "https://localhost:8080/"
        },
        "id": "KlKvohPw2jkw",
        "outputId": "463e819f-d122-4de0-f7ee-edee6d0ab5eb"
      },
      "outputs": [
        {
          "output_type": "execute_result",
          "data": {
            "text/plain": [
              "(417164, 4)"
            ]
          },
          "metadata": {},
          "execution_count": 7
        }
      ],
      "source": [
        "df.shape"
      ]
    },
    {
      "cell_type": "code",
      "execution_count": null,
      "metadata": {
        "colab": {
          "base_uri": "https://localhost:8080/",
          "height": 334
        },
        "id": "3cqD-nrd2jkx",
        "outputId": "40f60285-01c9-4730-fc76-c78c145acde1"
      },
      "outputs": [
        {
          "output_type": "stream",
          "name": "stderr",
          "text": [
            "/usr/local/lib/python3.7/dist-packages/seaborn/_decorators.py:43: FutureWarning: Pass the following variable as a keyword arg: x. From version 0.12, the only valid positional argument will be `data`, and passing other arguments without an explicit keyword will result in an error or misinterpretation.\n",
            "  FutureWarning\n"
          ]
        },
        {
          "output_type": "display_data",
          "data": {
            "text/plain": [
              "<Figure size 432x288 with 1 Axes>"
            ],
            "image/png": "[encoded data removed]"
          },
          "metadata": {}
        }
      ],
      "source": [
        "sns.boxplot(df.WhAccu)\n",
        "plt.show()"
      ]
    },
    {
      "cell_type": "code",
      "execution_count": null,
      "metadata": {
        "colab": {
          "base_uri": "https://localhost:8080/",
          "height": 334
        },
        "id": "n946e3z92jkx",
        "outputId": "625ded35-b778-4291-ea89-d91710c2ed4c"
      },
      "outputs": [
        {
          "output_type": "stream",
          "name": "stderr",
          "text": [
            "/usr/local/lib/python3.7/dist-packages/seaborn/_decorators.py:43: FutureWarning: Pass the following variable as a keyword arg: x. From version 0.12, the only valid positional argument will be `data`, and passing other arguments without an explicit keyword will result in an error or misinterpretation.\n",
            "  FutureWarning\n"
          ]
        },
        {
          "output_type": "display_data",
          "data": {
            "text/plain": [
              "<Figure size 432x288 with 1 Axes>"
            ],
            "image/png": "[encoded data removed]"
          },
          "metadata": {}
        }
      ],
      "source": [
        "sns.violinplot('WhAccu', data=df)\n",
        "plt.show()"
      ]
    },
    {
      "cell_type": "code",
      "execution_count": null,
      "metadata": {
        "colab": {
          "base_uri": "https://localhost:8080/",
          "height": 175
        },
        "id": "MLBhn9ZN2jky",
        "outputId": "f80797ea-a30e-433e-9733-c7bb457cbd30"
      },
      "outputs": [
        {
          "output_type": "execute_result",
          "data": {
            "text/plain": [
              "              Voltage   Current  Temperature    WhAccu\n",
              "Voltage      1.000000  0.399091    -0.605148 -0.853104\n",
              "Current      0.399091  1.000000    -0.262536 -0.164876\n",
              "Temperature -0.605148 -0.262536     1.000000  0.335367\n",
              "WhAccu      -0.853104 -0.164876     0.335367  1.000000"
            ],
            "text/html": [
              "\n",
              "  <div id=\"df-241cd9f9-0819-424b-8d7e-a7ee92601727\">\n",
              "    <div class=\"colab-df-container\">\n",
              "      <div>\n",
              "<style scoped>\n",
              "    .dataframe tbody tr th:only-of-type {\n",
              "        vertical-align: middle;\n",
              "    }\n",
              "\n",
              "    .dataframe tbody tr th {\n",
              "        vertical-align: top;\n",
              "    }\n",
              "\n",
              "    .dataframe thead th {\n",
              "        text-align: right;\n",
              "    }\n",
              "</style>\n",
              "<table border=\"1\" class=\"dataframe\">\n",
              "  <thead>\n",
              "    <tr style=\"text-align: right;\">\n",
              "      <th></th>\n",
              "      <th>Voltage</th>\n",
              "      <th>Current</th>\n",
              "      <th>Temperature</th>\n",
              "      <th>WhAccu</th>\n",
              "    </tr>\n",
              "  </thead>\n",
              "  <tbody>\n",
              "    <tr>\n",
              "      <th>Voltage</th>\n",
              "      <td>1.000000</td>\n",
              "      <td>0.399091</td>\n",
              "      <td>-0.605148</td>\n",
              "      <td>-0.853104</td>\n",
              "    </tr>\n",
              "    <tr>\n",
              "      <th>Current</th>\n",
              "      <td>0.399091</td>\n",
              "      <td>1.000000</td>\n",
              "      <td>-0.262536</td>\n",
              "      <td>-0.164876</td>\n",
              "    </tr>\n",
              "    <tr>\n",
              "      <th>Temperature</th>\n",
              "      <td>-0.605148</td>\n",
              "      <td>-0.262536</td>\n",
              "      <td>1.000000</td>\n",
              "      <td>0.335367</td>\n",
              "    </tr>\n",
              "    <tr>\n",
              "      <th>WhAccu</th>\n",
              "      <td>-0.853104</td>\n",
              "      <td>-0.164876</td>\n",
              "      <td>0.335367</td>\n",
              "      <td>1.000000</td>\n",
              "    </tr>\n",
              "  </tbody>\n",
              "</table>\n",
              "</div>\n",
              "      <button class=\"colab-df-convert\" onclick=\"convertToInteractive('df-241cd9f9-0819-424b-8d7e-a7ee92601727')\"\n",
              "              title=\"Convert this dataframe to an interactive table.\"\n",
              "              style=\"display:none;\">\n",
              "        \n",
              "  <svg xmlns=\"http://www.w3.org/2000/svg\" height=\"24px\"viewBox=\"0 0 24 24\"\n",
              "       width=\"24px\">\n",
              "    <path d=\"M0 0h24v24H0V0z\" fill=\"none\"/>\n",
              "    <path d=\"M18.56 5.44l.94 2.06.94-2.06 2.06-.94-2.06-.94-.94-2.06-.94 2.06-2.06.94zm-11 1L8.5 8.5l.94-2.06 2.06-.94-2.06-.94L8.5 2.5l-.94 2.06-2.06.94zm10 10l.94 2.06.94-2.06 2.06-.94-2.06-.94-.94-2.06-.94 2.06-2.06.94z\"/><path d=\"M17.41 7.96l-1.37-1.37c-.4-.4-.92-.59-1.43-.59-.52 0-1.04.2-1.43.59L10.3 9.45l-7.72 7.72c-.78.78-.78 2.05 0 2.83L4 21.41c.39.39.9.59 1.41.59.51 0 1.02-.2 1.41-.59l7.78-7.78 2.81-2.81c.8-.78.8-2.07 0-2.86zM5.41 20L4 18.59l7.72-7.72 1.47 1.35L5.41 20z\"/>\n",
              "  </svg>\n",
              "      </button>\n",
              "      \n",
              "  <style>\n",
              "    .colab-df-container {\n",
              "      display:flex;\n",
              "      flex-wrap:wrap;\n",
              "      gap: 12px;\n",
              "    }\n",
              "\n",
              "    .colab-df-convert {\n",
              "      background-color: #E8F0FE;\n",
              "      border: none;\n",
              "      border-radius: 50%;\n",
              "      cursor: pointer;\n",
              "      display: none;\n",
              "      fill: #1967D2;\n",
              "      height: 32px;\n",
              "      padding: 0 0 0 0;\n",
              "      width: 32px;\n",
              "    }\n",
              "\n",
              "    .colab-df-convert:hover {\n",
              "      background-color: #E2EBFA;\n",
              "      box-shadow: 0px 1px 2px rgba(60, 64, 67, 0.3), 0px 1px 3px 1px rgba(60, 64, 67, 0.15);\n",
              "      fill: #174EA6;\n",
              "    }\n",
              "\n",
              "    [theme=dark] .colab-df-convert {\n",
              "      background-color: #3B4455;\n",
              "      fill: #D2E3FC;\n",
              "    }\n",
              "\n",
              "    [theme=dark] .colab-df-convert:hover {\n",
              "      background-color: #434B5C;\n",
              "      box-shadow: 0px 1px 3px 1px rgba(0, 0, 0, 0.15);\n",
              "      filter: drop-shadow(0px 1px 2px rgba(0, 0, 0, 0.3));\n",
              "      fill: #FFFFFF;\n",
              "    }\n",
              "  </style>\n",
              "\n",
              "      <script>\n",
              "        const buttonEl =\n",
              "          document.querySelector('#df-241cd9f9-0819-424b-8d7e-a7ee92601727 button.colab-df-convert');\n",
              "        buttonEl.style.display =\n",
              "          google.colab.kernel.accessAllowed ? 'block' : 'none';\n",
              "\n",
              "        async function convertToInteractive(key) {\n",
              "          const element = document.querySelector('#df-241cd9f9-0819-424b-8d7e-a7ee92601727');\n",
              "          const dataTable =\n",
              "            await google.colab.kernel.invokeFunction('convertToInteractive',\n",
              "                                                     [key], {});\n",
              "          if (!dataTable) return;\n",
              "\n",
              "          const docLinkHtml = 'Like what you see? Visit the ' +\n",
              "            '<a target=\"_blank\" href=https://colab.research.google.com/notebooks/data_table.ipynb>data table notebook</a>'\n",
              "            + ' to learn more about interactive tables.';\n",
              "          element.innerHTML = '';\n",
              "          dataTable['output_type'] = 'display_data';\n",
              "          await google.colab.output.renderOutput(dataTable, element);\n",
              "          const docLink = document.createElement('div');\n",
              "          docLink.innerHTML = docLinkHtml;\n",
              "          element.appendChild(docLink);\n",
              "        }\n",
              "      </script>\n",
              "    </div>\n",
              "  </div>\n",
              "  "
            ]
          },
          "metadata": {},
          "execution_count": 10
        }
      ],
      "source": [
        "correlations = df.corr()\n",
        "correlations"
      ]
    },
    {
      "cell_type": "code",
      "execution_count": null,
      "metadata": {
        "colab": {
          "base_uri": "https://localhost:8080/",
          "height": 378
        },
        "id": "isnfJUax2jkz",
        "outputId": "66df10bf-d2e4-4f87-e9e7-75ec73f1a291"
      },
      "outputs": [
        {
          "output_type": "display_data",
          "data": {
            "text/plain": [
              "<Figure size 504x432 with 2 Axes>"
            ],
            "image/png": "[encoded data removed]"
          },
          "metadata": {}
        }
      ],
      "source": [
        "plt.figure(figsize=(7,6))\n",
        "sns.heatmap(correlations, cmap='RdBu_r')\n",
        "plt.show()"
      ]
    },
    {
      "cell_type": "markdown",
      "metadata": {
        "id": "nWPn6ja12jkz"
      },
      "source": [
        "## Data Cleaning"
      ]
    },
    {
      "cell_type": "code",
      "execution_count": null,
      "metadata": {
        "colab": {
          "base_uri": "https://localhost:8080/"
        },
        "id": "HZA0Gy8U2jk0",
        "outputId": "051c0f2d-f5fa-4072-d5c0-89f2151d9db1"
      },
      "outputs": [
        {
          "output_type": "stream",
          "name": "stdout",
          "text": [
            "(417164, 4)\n",
            "(404001, 4)\n"
          ]
        }
      ],
      "source": [
        "print(df.shape)\n",
        "df = df.drop_duplicates()\n",
        "print(df.shape)"
      ]
    },
    {
      "cell_type": "markdown",
      "metadata": {
        "id": "xyOHQb8g2jk0"
      },
      "source": [
        "## Feature Engineering"
      ]
    },
    {
      "cell_type": "code",
      "execution_count": null,
      "metadata": {
        "colab": {
          "base_uri": "https://localhost:8080/",
          "height": 206
        },
        "id": "wdqy6FRk2jk1",
        "outputId": "0c501cb0-8822-4571-f41f-43fc5fe5e6b1"
      },
      "outputs": [
        {
          "output_type": "execute_result",
          "data": {
            "text/plain": [
              "         Voltage   Current  Temperature    WhAccu     Vmean\n",
              "404479  4.200151  0.097634      25.1802  0.000000  2.952593\n",
              "404480  2.498921 -5.001635      47.1063  6.455960  2.961923\n",
              "404481  4.200151  0.097634      26.9059  0.000000  2.956936\n",
              "404482  2.498921 -5.002291      47.9281  6.493349  2.966314\n",
              "404484  2.498921 -5.002291      47.1674  6.467822  2.961379"
            ],
            "text/html": [
              "\n",
              "  <div id=\"df-2302da56-c4cf-4fe1-9048-5adf7ae80224\">\n",
              "    <div class=\"colab-df-container\">\n",
              "      <div>\n",
              "<style scoped>\n",
              "    .dataframe tbody tr th:only-of-type {\n",
              "        vertical-align: middle;\n",
              "    }\n",
              "\n",
              "    .dataframe tbody tr th {\n",
              "        vertical-align: top;\n",
              "    }\n",
              "\n",
              "    .dataframe thead th {\n",
              "        text-align: right;\n",
              "    }\n",
              "</style>\n",
              "<table border=\"1\" class=\"dataframe\">\n",
              "  <thead>\n",
              "    <tr style=\"text-align: right;\">\n",
              "      <th></th>\n",
              "      <th>Voltage</th>\n",
              "      <th>Current</th>\n",
              "      <th>Temperature</th>\n",
              "      <th>WhAccu</th>\n",
              "      <th>Vmean</th>\n",
              "    </tr>\n",
              "  </thead>\n",
              "  <tbody>\n",
              "    <tr>\n",
              "      <th>404479</th>\n",
              "      <td>4.200151</td>\n",
              "      <td>0.097634</td>\n",
              "      <td>25.1802</td>\n",
              "      <td>0.000000</td>\n",
              "      <td>2.952593</td>\n",
              "    </tr>\n",
              "    <tr>\n",
              "      <th>404480</th>\n",
              "      <td>2.498921</td>\n",
              "      <td>-5.001635</td>\n",
              "      <td>47.1063</td>\n",
              "      <td>6.455960</td>\n",
              "      <td>2.961923</td>\n",
              "    </tr>\n",
              "    <tr>\n",
              "      <th>404481</th>\n",
              "      <td>4.200151</td>\n",
              "      <td>0.097634</td>\n",
              "      <td>26.9059</td>\n",
              "      <td>0.000000</td>\n",
              "      <td>2.956936</td>\n",
              "    </tr>\n",
              "    <tr>\n",
              "      <th>404482</th>\n",
              "      <td>2.498921</td>\n",
              "      <td>-5.002291</td>\n",
              "      <td>47.9281</td>\n",
              "      <td>6.493349</td>\n",
              "      <td>2.966314</td>\n",
              "    </tr>\n",
              "    <tr>\n",
              "      <th>404484</th>\n",
              "      <td>2.498921</td>\n",
              "      <td>-5.002291</td>\n",
              "      <td>47.1674</td>\n",
              "      <td>6.467822</td>\n",
              "      <td>2.961379</td>\n",
              "    </tr>\n",
              "  </tbody>\n",
              "</table>\n",
              "</div>\n",
              "      <button class=\"colab-df-convert\" onclick=\"convertToInteractive('df-2302da56-c4cf-4fe1-9048-5adf7ae80224')\"\n",
              "              title=\"Convert this dataframe to an interactive table.\"\n",
              "              style=\"display:none;\">\n",
              "        \n",
              "  <svg xmlns=\"http://www.w3.org/2000/svg\" height=\"24px\"viewBox=\"0 0 24 24\"\n",
              "       width=\"24px\">\n",
              "    <path d=\"M0 0h24v24H0V0z\" fill=\"none\"/>\n",
              "    <path d=\"M18.56 5.44l.94 2.06.94-2.06 2.06-.94-2.06-.94-.94-2.06-.94 2.06-2.06.94zm-11 1L8.5 8.5l.94-2.06 2.06-.94-2.06-.94L8.5 2.5l-.94 2.06-2.06.94zm10 10l.94 2.06.94-2.06 2.06-.94-2.06-.94-.94-2.06-.94 2.06-2.06.94z\"/><path d=\"M17.41 7.96l-1.37-1.37c-.4-.4-.92-.59-1.43-.59-.52 0-1.04.2-1.43.59L10.3 9.45l-7.72 7.72c-.78.78-.78 2.05 0 2.83L4 21.41c.39.39.9.59 1.41.59.51 0 1.02-.2 1.41-.59l7.78-7.78 2.81-2.81c.8-.78.8-2.07 0-2.86zM5.41 20L4 18.59l7.72-7.72 1.47 1.35L5.41 20z\"/>\n",
              "  </svg>\n",
              "      </button>\n",
              "      \n",
              "  <style>\n",
              "    .colab-df-container {\n",
              "      display:flex;\n",
              "      flex-wrap:wrap;\n",
              "      gap: 12px;\n",
              "    }\n",
              "\n",
              "    .colab-df-convert {\n",
              "      background-color: #E8F0FE;\n",
              "      border: none;\n",
              "      border-radius: 50%;\n",
              "      cursor: pointer;\n",
              "      display: none;\n",
              "      fill: #1967D2;\n",
              "      height: 32px;\n",
              "      padding: 0 0 0 0;\n",
              "      width: 32px;\n",
              "    }\n",
              "\n",
              "    .colab-df-convert:hover {\n",
              "      background-color: #E2EBFA;\n",
              "      box-shadow: 0px 1px 2px rgba(60, 64, 67, 0.3), 0px 1px 3px 1px rgba(60, 64, 67, 0.15);\n",
              "      fill: #174EA6;\n",
              "    }\n",
              "\n",
              "    [theme=dark] .colab-df-convert {\n",
              "      background-color: #3B4455;\n",
              "      fill: #D2E3FC;\n",
              "    }\n",
              "\n",
              "    [theme=dark] .colab-df-convert:hover {\n",
              "      background-color: #434B5C;\n",
              "      box-shadow: 0px 1px 3px 1px rgba(0, 0, 0, 0.15);\n",
              "      filter: drop-shadow(0px 1px 2px rgba(0, 0, 0, 0.3));\n",
              "      fill: #FFFFFF;\n",
              "    }\n",
              "  </style>\n",
              "\n",
              "      <script>\n",
              "        const buttonEl =\n",
              "          document.querySelector('#df-2302da56-c4cf-4fe1-9048-5adf7ae80224 button.colab-df-convert');\n",
              "        buttonEl.style.display =\n",
              "          google.colab.kernel.accessAllowed ? 'block' : 'none';\n",
              "\n",
              "        async function convertToInteractive(key) {\n",
              "          const element = document.querySelector('#df-2302da56-c4cf-4fe1-9048-5adf7ae80224');\n",
              "          const dataTable =\n",
              "            await google.colab.kernel.invokeFunction('convertToInteractive',\n",
              "                                                     [key], {});\n",
              "          if (!dataTable) return;\n",
              "\n",
              "          const docLinkHtml = 'Like what you see? Visit the ' +\n",
              "            '<a target=\"_blank\" href=https://colab.research.google.com/notebooks/data_table.ipynb>data table notebook</a>'\n",
              "            + ' to learn more about interactive tables.';\n",
              "          element.innerHTML = '';\n",
              "          dataTable['output_type'] = 'display_data';\n",
              "          await google.colab.output.renderOutput(dataTable, element);\n",
              "          const docLink = document.createElement('div');\n",
              "          docLink.innerHTML = docLinkHtml;\n",
              "          element.appendChild(docLink);\n",
              "        }\n",
              "      </script>\n",
              "    </div>\n",
              "  </div>\n",
              "  "
            ]
          },
          "metadata": {},
          "execution_count": 13
        }
      ],
      "source": [
        "V_num = 100\n",
        "V = []\n",
        "V[:V_num] = df.Voltage[:V_num]\n",
        "for i in range(V_num,len(df.Voltage)):\n",
        "    V.append(np.mean(df.Voltage[i-V_num:i]))\n",
        "df['Vmean'] = V\n",
        "df.tail()"
      ]
    },
    {
      "cell_type": "markdown",
      "metadata": {
        "id": "Tnzcm5lG2jk1"
      },
      "source": [
        "## Algorithm Selection"
      ]
    },
    {
      "cell_type": "code",
      "execution_count": null,
      "metadata": {
        "id": "6FEXX9C22jk2"
      },
      "outputs": [],
      "source": [
        "df['Temperature'] = df['Temperature'].astype(float)\n",
        "\n",
        "y = df.WhAccu\n",
        "X = df.drop('WhAccu', axis=1)"
      ]
    },
    {
      "cell_type": "code",
      "execution_count": null,
      "metadata": {
        "id": "rCPTCizo2jk2"
      },
      "outputs": [],
      "source": [
        "X_train, X_test, y_train, y_test = train_test_split(X, y, test_size = 0.2, random_state=1234)\n",
        "pipelines = {\n",
        "    'rf'    : make_pipeline(StandardScaler(), RandomForestRegressor(random_state=123))\n",
        "}"
      ]
    },
    {
      "cell_type": "code",
      "execution_count": null,
      "metadata": {
        "colab": {
          "base_uri": "https://localhost:8080/"
        },
        "id": "s78Xwcp82jk3",
        "outputId": "1c286240-879c-4265-8bf1-bea3c6b206a4"
      },
      "outputs": [
        {
          "output_type": "stream",
          "name": "stdout",
          "text": [
            "rf <class 'sklearn.pipeline.Pipeline'>\n"
          ]
        }
      ],
      "source": [
        "# Check that we have all 5 model families, and that they are all pipelines\n",
        "for key, value in pipelines.items():\n",
        "    print( key, type(value) )"
      ]
    },
    {
      "cell_type": "code",
      "execution_count": null,
      "metadata": {
        "id": "rTlDewEe2jk4"
      },
      "outputs": [],
      "source": [
        "# Random forest hyperparameters\n",
        "rf_hyperparameters = {\n",
        "    'randomforestregressor__n_estimators' : [10, 20],\n",
        "    'randomforestregressor__max_features': ['auto', 'sqrt', 0.33]\n",
        "}\n",
        "\n",
        "# decision tree hyperparameters\n",
        "\n",
        "# Create hyperparameters dictionary\n",
        "hyperparameters = {\n",
        "    'rf' : rf_hyperparameters,\n",
        "}"
      ]
    },
    {
      "cell_type": "code",
      "execution_count": null,
      "metadata": {
        "colab": {
          "base_uri": "https://localhost:8080/"
        },
        "id": "Z7kB_09H2jk5",
        "outputId": "3df3d0e6-2b39-40b0-964a-2553c63ffeeb"
      },
      "outputs": [
        {
          "output_type": "stream",
          "name": "stdout",
          "text": [
            "rf was found in hyperparameters, and it is a grid.\n"
          ]
        }
      ],
      "source": [
        "for key in ['rf']:\n",
        "    if key in hyperparameters:\n",
        "        if type(hyperparameters[key]) is dict:\n",
        "            print( key, 'was found in hyperparameters, and it is a grid.' )\n",
        "        else:\n",
        "            print( key, 'was found in hyperparameters, but it is not a grid.' )\n",
        "    else:\n",
        "        print( key, 'was not found in hyperparameters')"
      ]
    },
    {
      "cell_type": "code",
      "execution_count": null,
      "metadata": {
        "colab": {
          "base_uri": "https://localhost:8080/"
        },
        "id": "vLl0S7wr2jk5",
        "outputId": "e005b4b0-f19d-41f0-8329-9036220d9dce"
      },
      "outputs": [
        {
          "output_type": "stream",
          "name": "stderr",
          "text": [
            "/usr/local/lib/python3.7/dist-packages/joblib/externals/loky/process_executor.py:703: UserWarning: A worker stopped while some jobs were given to the executor. This can be caused by a too short worker timeout or by a memory leak.\n",
            "  \"timeout or by a memory leak.\", UserWarning\n"
          ]
        },
        {
          "output_type": "stream",
          "name": "stdout",
          "text": [
            "rf has been fitted.\n"
          ]
        }
      ],
      "source": [
        "# Create empty dictionary called fitted_models\n",
        "fitted_models = {}\n",
        "\n",
        "# Loop through model pipelines, tuning each one and saving it to fitted_models\n",
        "for name, pipeline in pipelines.items():\n",
        "    model = GridSearchCV(pipeline, hyperparameters[name], cv=10, n_jobs=-1)\n",
        "\n",
        "    # Fit model on X_train, y_train\n",
        "    model.fit(X_train, y_train)\n",
        "\n",
        "    # Store model in fitted_models[name]\n",
        "    fitted_models[name] = model\n",
        "\n",
        "    # Print '{name} has been fitted'\n",
        "    print(name, 'has been fitted.')"
      ]
    },
    {
      "cell_type": "code",
      "execution_count": null,
      "metadata": {
        "id": "5hqQ2odh2jk6"
      },
      "outputs": [],
      "source": [
        "# pipeline = make_pipeline(StandardScaler(), MLPRegressor(random_state=123))\n",
        "# model = GridSearchCV(pipeline , hyperparameters['mlp'], cv=10, n_jobs=-1)\n",
        "\n",
        "# # Fit model on X_train, y_train\n",
        "# model.fit(X_train, y_train)\n",
        "\n",
        "# # Print '{name} has been fitted'\n",
        "# print('mlp', 'has been fitted.')"
      ]
    },
    {
      "cell_type": "code",
      "execution_count": null,
      "metadata": {
        "colab": {
          "base_uri": "https://localhost:8080/"
        },
        "id": "26QNVPtt2jk6",
        "outputId": "1693796b-0388-48b8-9c1c-4175828fc8d6"
      },
      "outputs": [
        {
          "output_type": "stream",
          "name": "stdout",
          "text": [
            "rf has been fitted.\n"
          ]
        }
      ],
      "source": [
        "for name, model in fitted_models.items():\n",
        "    try:\n",
        "        pred = model.predict(X_test)\n",
        "        print (name, 'has been fitted.')\n",
        "    except NotFittedError as e:\n",
        "        print(repr(e))"
      ]
    },
    {
      "cell_type": "markdown",
      "metadata": {
        "id": "5m38TMcn2jk7"
      },
      "source": [
        "## Model Selection"
      ]
    },
    {
      "cell_type": "code",
      "execution_count": null,
      "metadata": {
        "colab": {
          "base_uri": "https://localhost:8080/"
        },
        "id": "MaHmaqcy2jk7",
        "outputId": "01a7541f-8a60-4d2d-fb70-ed02cc1ff68d"
      },
      "outputs": [
        {
          "output_type": "stream",
          "name": "stdout",
          "text": [
            "rf 0.9915968721317567\n"
          ]
        }
      ],
      "source": [
        "for name, model in fitted_models.items():\n",
        "    print(name, model.best_score_)"
      ]
    },
    {
      "cell_type": "code",
      "execution_count": null,
      "metadata": {
        "colab": {
          "base_uri": "https://localhost:8080/"
        },
        "id": "Gmfk8mSy2jk7",
        "outputId": "f3447056-44b1-4186-b373-ca55c238af0e"
      },
      "outputs": [
        {
          "output_type": "stream",
          "name": "stdout",
          "text": [
            "rf\n",
            "R2: 0.9921617217634723\n",
            "MAE: 0.132665259641941\n"
          ]
        }
      ],
      "source": [
        "for name,model in fitted_models.items():\n",
        "    pred = fitted_models[name].predict(X_test)\n",
        "    print(name)\n",
        "    print('R2:', r2_score(y_test, pred))\n",
        "    print('MAE:', mean_absolute_error(y_test, pred))"
      ]
    },
    {
      "cell_type": "code",
      "execution_count": null,
      "metadata": {
        "id": "eh1r14Cm2jk8"
      },
      "outputs": [],
      "source": [
        "# RF wins!"
      ]
    },
    {
      "cell_type": "code",
      "source": [
        "from sklearn.model_selection import cross_val_score\n",
        "for name,model in fitted_models.items():\n",
        "  accuracies = cross_val_score(estimator = fitted_models[name], X = X_train, y = y_train, cv = 10)\n",
        "  print(\"Accuracy: {:.2f} %\".format(accuracies.mean()*100))\n",
        "  print(\"Standard Deviation: {:.2f} %\".format(accuracies.std()*100))"
      ],
      "metadata": {
        "colab": {
          "base_uri": "https://localhost:8080/"
        },
        "id": "lcBG71EaTrME",
        "outputId": "c8ebfbc4-13c1-4ef2-d3c9-2aac8032d181"
      },
      "execution_count": null,
      "outputs": [
        {
          "output_type": "stream",
          "name": "stderr",
          "text": [
            "/usr/local/lib/python3.7/dist-packages/joblib/externals/loky/process_executor.py:703: UserWarning: A worker stopped while some jobs were given to the executor. This can be caused by a too short worker timeout or by a memory leak.\n",
            "  \"timeout or by a memory leak.\", UserWarning\n"
          ]
        },
        {
          "output_type": "stream",
          "name": "stdout",
          "text": [
            "Accuracy: 99.16 %\n",
            "Standard Deviation: 0.04 %\n"
          ]
        }
      ]
    },
    {
      "cell_type": "markdown",
      "metadata": {
        "id": "P-mdiYzu2jk8"
      },
      "source": [
        "## Insight & Analysis"
      ]
    },
    {
      "cell_type": "code",
      "execution_count": null,
      "metadata": {
        "colab": {
          "base_uri": "https://localhost:8080/",
          "height": 279
        },
        "id": "3FedwaZH2jk8",
        "outputId": "224388e6-0c20-4338-84bb-23c89b51e633"
      },
      "outputs": [
        {
          "output_type": "display_data",
          "data": {
            "text/plain": [
              "<Figure size 432x288 with 1 Axes>"
            ],
            "image/png": "[encoded data removed]"
          },
          "metadata": {}
        }
      ],
      "source": [
        "rf_pred = fitted_models['rf'].predict(X_test)\n",
        "plt.scatter(rf_pred, y_test,color = '#ff0000',alpha=0.6,s=6)\n",
        "plt.xlabel('Estimated')\n",
        "plt.ylabel('Original')\n",
        "plt.show()"
      ]
    },
    {
      "cell_type": "code",
      "source": [
        "pr_pred = fitted_models['pr'].predict(X_test)\n",
        "plt.scatter(pr_pred, y_test,color = '#ff0000',alpha=0.6,s=6)\n",
        "plt.xlabel('Estimated')\n",
        "plt.ylabel('Original')\n",
        "plt.show()"
      ],
      "metadata": {
        "id": "XYjqSA4QBK7E"
      },
      "execution_count": null,
      "outputs": []
    },
    {
      "cell_type": "code",
      "source": [
        "gb_pred = fitted_models['gb'].predict(X_test)\n",
        "plt.scatter(gb_pred, y_test)\n",
        "plt.xlabel('predicted')\n",
        "plt.ylabel('actual')\n",
        "plt.show()"
      ],
      "metadata": {
        "id": "GX8oeFNUBLP6"
      },
      "execution_count": null,
      "outputs": []
    },
    {
      "cell_type": "code",
      "source": [
        "ridge_pred = fitted_models['ridge'].predict(X_test)\n",
        "plt.scatter(ridge_pred, y_test)\n",
        "plt.xlabel('predicted')\n",
        "plt.ylabel('actual')\n",
        "plt.show()"
      ],
      "metadata": {
        "id": "y8hSvne5BLcL"
      },
      "execution_count": null,
      "outputs": []
    },
    {
      "cell_type": "code",
      "source": [
        "lasso_pred = fitted_models['lasso'].predict(X_test)\n",
        "plt.scatter(lasso_pred, y_test)\n",
        "plt.xlabel('predicted')\n",
        "plt.ylabel('actual')\n",
        "plt.show()"
      ],
      "metadata": {
        "id": "dMKJuI5HBLnH"
      },
      "execution_count": null,
      "outputs": []
    },
    {
      "cell_type": "code",
      "source": [
        "enet_pred = fitted_models['enet'].predict(X_test)\n",
        "plt.scatter(enet_pred, y_test)\n",
        "plt.xlabel('predicted')\n",
        "plt.ylabel('actual')\n",
        "plt.show()"
      ],
      "metadata": {
        "id": "5YHR5TfOBLxI"
      },
      "execution_count": null,
      "outputs": []
    },
    {
      "cell_type": "code",
      "execution_count": null,
      "metadata": {
        "id": "hqSEJsIy2jk9"
      },
      "outputs": [],
      "source": [
        "fitted_models['rf'].best_estimator_"
      ]
    },
    {
      "cell_type": "code",
      "execution_count": null,
      "metadata": {
        "id": "HSf97ZzJ2jk-"
      },
      "outputs": [],
      "source": [
        "with open('RF_SOC_model.pkl', 'wb') as f:\n",
        "    pickle.dump(fitted_models['rf'].best_estimator_, f)"
      ]
    }
  ],
  "metadata": {
    "kernelspec": {
      "display_name": "Python 3",
      "language": "python",
      "name": "python3"
    },
    "language_info": {
      "codemirror_mode": {
        "name": "ipython",
        "version": 3
      },
      "file_extension": ".py",
      "mimetype": "text/x-python",
      "name": "python",
      "nbconvert_exporter": "python",
      "pygments_lexer": "ipython3",
      "version": "3.7.4"
    },
    "colab": {
      "provenance": []
    }
  },
  "nbformat": 4,
  "nbformat_minor": 0
}